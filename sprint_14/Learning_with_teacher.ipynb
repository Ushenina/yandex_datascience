{
 "cells": [
  {
   "cell_type": "markdown",
   "metadata": {
    "toc": true
   },
   "source": [
    "<h1>Содержание<span class=\"tocSkip\"></span></h1>\n",
    "<div class=\"toc\"><ul class=\"toc-item\"><li><span><a href=\"#Подготовка-данных\" data-toc-modified-id=\"Подготовка-данных-1\"><span class=\"toc-item-num\">1&nbsp;&nbsp;</span>Подготовка данных</a></span></li><li><span><a href=\"#Исследование-задачи\" data-toc-modified-id=\"Исследование-задачи-2\"><span class=\"toc-item-num\">2&nbsp;&nbsp;</span>Исследование задачи</a></span><ul class=\"toc-item\"><li><span><a href=\"#Подготовим-данные-для-машинного-обучения\" data-toc-modified-id=\"Подготовим-данные-для-машинного-обучения-2.1\"><span class=\"toc-item-num\">2.1&nbsp;&nbsp;</span>Подготовим данные для машинного обучения</a></span></li></ul></li><li><span><a href=\"#Борьба-с-дисбалансом\" data-toc-modified-id=\"Борьба-с-дисбалансом-3\"><span class=\"toc-item-num\">3&nbsp;&nbsp;</span>Борьба с дисбалансом</a></span></li><li><span><a href=\"#Тестирование-модели\" data-toc-modified-id=\"Тестирование-модели-4\"><span class=\"toc-item-num\">4&nbsp;&nbsp;</span>Тестирование модели</a></span></li><li><span><a href=\"#Чек-лист-готовности-проекта\" data-toc-modified-id=\"Чек-лист-готовности-проекта-5\"><span class=\"toc-item-num\">5&nbsp;&nbsp;</span>Чек-лист готовности проекта</a></span></li></ul></div>"
   ]
  },
  {
   "cell_type": "markdown",
   "metadata": {},
   "source": [
    "# Отток клиентов"
   ]
  },
  {
   "cell_type": "markdown",
   "metadata": {},
   "source": [
    "Из «Бета-Банка» стали уходить клиенты. Каждый месяц. Немного, но заметно. Банковские маркетологи посчитали: сохранять текущих клиентов дешевле, чем привлекать новых.\n",
    "\n",
    "Нужно спрогнозировать, уйдёт клиент из банка в ближайшее время или нет. Вам предоставлены исторические данные о поведении клиентов и расторжении договоров с банком. \n",
    "\n",
    "Постройте модель с предельно большим значением *F1*-меры. Чтобы сдать проект успешно, нужно довести метрику до 0.59. Проверьте *F1*-меру на тестовой выборке самостоятельно.\n",
    "\n",
    "Дополнительно измеряйте *AUC-ROC*, сравнивайте её значение с *F1*-мерой.\n",
    "\n",
    "Источник данных: [https://www.kaggle.com/barelydedicated/bank-customer-churn-modeling](https://www.kaggle.com/barelydedicated/bank-customer-churn-modeling)"
   ]
  },
  {
   "cell_type": "markdown",
   "metadata": {},
   "source": [
    "<b>Описание данных</b><br>\n",
    "\n",
    "<b>Признаки</b><br>\n",
    "<b>RowNumber</b> — индекс строки в данных<br>\n",
    "<b>CustomerId</b> — уникальный идентификатор клиента<br>\n",
    "<b>Surname</b> — фамилия<br>\n",
    "<b>CreditScore</b> — кредитный рейтинг<br>\n",
    "<b>Geography</b> — страна проживания<br>\n",
    "<b>Gender</b> — пол<br>\n",
    "<b>Age</b> — возраст<br>\n",
    "<b>Tenure</b> — сколько лет человек является клиентом банка<br>\n",
    "<b>Balance</b> — баланс на счёте<br>\n",
    "<b>NumOfProducts</b> — количество продуктов банка, используемых клиентом<br>\n",
    "<b>HasCrCard</b> — наличие кредитной карты<br>\n",
    "<b>IsActiveMember</b> — активность клиента<br>\n",
    "<b>EstimatedSalary</b> — предполагаемая зарплата<br><br>\n",
    "<b>Целевой признак</b><br><br>\n",
    "<b>Exited</b> — факт ухода клиента<br>"
   ]
  },
  {
   "cell_type": "markdown",
   "metadata": {},
   "source": [
    "<b> План работы: </b>\n",
    "1. Откроем файлы с данными, проведем предобработку данных.\n",
    "2. Подготовим данные для машинного обучения: исследуем баланс классов и изучим модели без учёта дисбаланса\n",
    "3. Учтём дисбаланс, применем несколько способов борьбы с дисбалансом\n",
    "4. Проведем тестирование. Достигнем F1-меры не менее 0.59. Исследуем метрику AUC-ROC."
   ]
  },
  {
   "cell_type": "markdown",
   "metadata": {},
   "source": [
    "## Подготовка данных"
   ]
  },
  {
   "cell_type": "code",
   "execution_count": 1,
   "metadata": {},
   "outputs": [],
   "source": [
    "import pandas as pd\n",
    "import matplotlib.pyplot as plt\n",
    "\n",
    "from sklearn.preprocessing import MinMaxScaler\n",
    "from sklearn.utils import shuffle\n",
    "from sklearn.model_selection import train_test_split, GridSearchCV\n",
    "from sklearn.metrics import accuracy_score, f1_score, recall_score, precision_score, roc_auc_score, roc_curve, confusion_matrix\n",
    "\n",
    "\n",
    "from sklearn.linear_model import LogisticRegression\n",
    "from sklearn.ensemble import RandomForestClassifier\n",
    "from sklearn.preprocessing import StandardScaler\n",
    "from sklearn.tree import DecisionTreeClassifier\n",
    "from sklearn.dummy import DummyClassifier"
   ]
  },
  {
   "cell_type": "code",
   "execution_count": 2,
   "metadata": {},
   "outputs": [
    {
     "data": {
      "text/html": [
       "<div>\n",
       "<style scoped>\n",
       "    .dataframe tbody tr th:only-of-type {\n",
       "        vertical-align: middle;\n",
       "    }\n",
       "\n",
       "    .dataframe tbody tr th {\n",
       "        vertical-align: top;\n",
       "    }\n",
       "\n",
       "    .dataframe thead th {\n",
       "        text-align: right;\n",
       "    }\n",
       "</style>\n",
       "<table border=\"1\" class=\"dataframe\">\n",
       "  <thead>\n",
       "    <tr style=\"text-align: right;\">\n",
       "      <th></th>\n",
       "      <th>RowNumber</th>\n",
       "      <th>CustomerId</th>\n",
       "      <th>Surname</th>\n",
       "      <th>CreditScore</th>\n",
       "      <th>Geography</th>\n",
       "      <th>Gender</th>\n",
       "      <th>Age</th>\n",
       "      <th>Tenure</th>\n",
       "      <th>Balance</th>\n",
       "      <th>NumOfProducts</th>\n",
       "      <th>HasCrCard</th>\n",
       "      <th>IsActiveMember</th>\n",
       "      <th>EstimatedSalary</th>\n",
       "      <th>Exited</th>\n",
       "    </tr>\n",
       "  </thead>\n",
       "  <tbody>\n",
       "    <tr>\n",
       "      <th>0</th>\n",
       "      <td>1</td>\n",
       "      <td>15634602</td>\n",
       "      <td>Hargrave</td>\n",
       "      <td>619</td>\n",
       "      <td>France</td>\n",
       "      <td>Female</td>\n",
       "      <td>42</td>\n",
       "      <td>2.0</td>\n",
       "      <td>0.00</td>\n",
       "      <td>1</td>\n",
       "      <td>1</td>\n",
       "      <td>1</td>\n",
       "      <td>101348.88</td>\n",
       "      <td>1</td>\n",
       "    </tr>\n",
       "    <tr>\n",
       "      <th>1</th>\n",
       "      <td>2</td>\n",
       "      <td>15647311</td>\n",
       "      <td>Hill</td>\n",
       "      <td>608</td>\n",
       "      <td>Spain</td>\n",
       "      <td>Female</td>\n",
       "      <td>41</td>\n",
       "      <td>1.0</td>\n",
       "      <td>83807.86</td>\n",
       "      <td>1</td>\n",
       "      <td>0</td>\n",
       "      <td>1</td>\n",
       "      <td>112542.58</td>\n",
       "      <td>0</td>\n",
       "    </tr>\n",
       "    <tr>\n",
       "      <th>2</th>\n",
       "      <td>3</td>\n",
       "      <td>15619304</td>\n",
       "      <td>Onio</td>\n",
       "      <td>502</td>\n",
       "      <td>France</td>\n",
       "      <td>Female</td>\n",
       "      <td>42</td>\n",
       "      <td>8.0</td>\n",
       "      <td>159660.80</td>\n",
       "      <td>3</td>\n",
       "      <td>1</td>\n",
       "      <td>0</td>\n",
       "      <td>113931.57</td>\n",
       "      <td>1</td>\n",
       "    </tr>\n",
       "    <tr>\n",
       "      <th>3</th>\n",
       "      <td>4</td>\n",
       "      <td>15701354</td>\n",
       "      <td>Boni</td>\n",
       "      <td>699</td>\n",
       "      <td>France</td>\n",
       "      <td>Female</td>\n",
       "      <td>39</td>\n",
       "      <td>1.0</td>\n",
       "      <td>0.00</td>\n",
       "      <td>2</td>\n",
       "      <td>0</td>\n",
       "      <td>0</td>\n",
       "      <td>93826.63</td>\n",
       "      <td>0</td>\n",
       "    </tr>\n",
       "    <tr>\n",
       "      <th>4</th>\n",
       "      <td>5</td>\n",
       "      <td>15737888</td>\n",
       "      <td>Mitchell</td>\n",
       "      <td>850</td>\n",
       "      <td>Spain</td>\n",
       "      <td>Female</td>\n",
       "      <td>43</td>\n",
       "      <td>2.0</td>\n",
       "      <td>125510.82</td>\n",
       "      <td>1</td>\n",
       "      <td>1</td>\n",
       "      <td>1</td>\n",
       "      <td>79084.10</td>\n",
       "      <td>0</td>\n",
       "    </tr>\n",
       "    <tr>\n",
       "      <th>5</th>\n",
       "      <td>6</td>\n",
       "      <td>15574012</td>\n",
       "      <td>Chu</td>\n",
       "      <td>645</td>\n",
       "      <td>Spain</td>\n",
       "      <td>Male</td>\n",
       "      <td>44</td>\n",
       "      <td>8.0</td>\n",
       "      <td>113755.78</td>\n",
       "      <td>2</td>\n",
       "      <td>1</td>\n",
       "      <td>0</td>\n",
       "      <td>149756.71</td>\n",
       "      <td>1</td>\n",
       "    </tr>\n",
       "    <tr>\n",
       "      <th>6</th>\n",
       "      <td>7</td>\n",
       "      <td>15592531</td>\n",
       "      <td>Bartlett</td>\n",
       "      <td>822</td>\n",
       "      <td>France</td>\n",
       "      <td>Male</td>\n",
       "      <td>50</td>\n",
       "      <td>7.0</td>\n",
       "      <td>0.00</td>\n",
       "      <td>2</td>\n",
       "      <td>1</td>\n",
       "      <td>1</td>\n",
       "      <td>10062.80</td>\n",
       "      <td>0</td>\n",
       "    </tr>\n",
       "    <tr>\n",
       "      <th>7</th>\n",
       "      <td>8</td>\n",
       "      <td>15656148</td>\n",
       "      <td>Obinna</td>\n",
       "      <td>376</td>\n",
       "      <td>Germany</td>\n",
       "      <td>Female</td>\n",
       "      <td>29</td>\n",
       "      <td>4.0</td>\n",
       "      <td>115046.74</td>\n",
       "      <td>4</td>\n",
       "      <td>1</td>\n",
       "      <td>0</td>\n",
       "      <td>119346.88</td>\n",
       "      <td>1</td>\n",
       "    </tr>\n",
       "    <tr>\n",
       "      <th>8</th>\n",
       "      <td>9</td>\n",
       "      <td>15792365</td>\n",
       "      <td>He</td>\n",
       "      <td>501</td>\n",
       "      <td>France</td>\n",
       "      <td>Male</td>\n",
       "      <td>44</td>\n",
       "      <td>4.0</td>\n",
       "      <td>142051.07</td>\n",
       "      <td>2</td>\n",
       "      <td>0</td>\n",
       "      <td>1</td>\n",
       "      <td>74940.50</td>\n",
       "      <td>0</td>\n",
       "    </tr>\n",
       "    <tr>\n",
       "      <th>9</th>\n",
       "      <td>10</td>\n",
       "      <td>15592389</td>\n",
       "      <td>H?</td>\n",
       "      <td>684</td>\n",
       "      <td>France</td>\n",
       "      <td>Male</td>\n",
       "      <td>27</td>\n",
       "      <td>2.0</td>\n",
       "      <td>134603.88</td>\n",
       "      <td>1</td>\n",
       "      <td>1</td>\n",
       "      <td>1</td>\n",
       "      <td>71725.73</td>\n",
       "      <td>0</td>\n",
       "    </tr>\n",
       "  </tbody>\n",
       "</table>\n",
       "</div>"
      ],
      "text/plain": [
       "   RowNumber  CustomerId   Surname  CreditScore Geography  Gender  Age  \\\n",
       "0          1    15634602  Hargrave          619    France  Female   42   \n",
       "1          2    15647311      Hill          608     Spain  Female   41   \n",
       "2          3    15619304      Onio          502    France  Female   42   \n",
       "3          4    15701354      Boni          699    France  Female   39   \n",
       "4          5    15737888  Mitchell          850     Spain  Female   43   \n",
       "5          6    15574012       Chu          645     Spain    Male   44   \n",
       "6          7    15592531  Bartlett          822    France    Male   50   \n",
       "7          8    15656148    Obinna          376   Germany  Female   29   \n",
       "8          9    15792365        He          501    France    Male   44   \n",
       "9         10    15592389        H?          684    France    Male   27   \n",
       "\n",
       "   Tenure    Balance  NumOfProducts  HasCrCard  IsActiveMember  \\\n",
       "0     2.0       0.00              1          1               1   \n",
       "1     1.0   83807.86              1          0               1   \n",
       "2     8.0  159660.80              3          1               0   \n",
       "3     1.0       0.00              2          0               0   \n",
       "4     2.0  125510.82              1          1               1   \n",
       "5     8.0  113755.78              2          1               0   \n",
       "6     7.0       0.00              2          1               1   \n",
       "7     4.0  115046.74              4          1               0   \n",
       "8     4.0  142051.07              2          0               1   \n",
       "9     2.0  134603.88              1          1               1   \n",
       "\n",
       "   EstimatedSalary  Exited  \n",
       "0        101348.88       1  \n",
       "1        112542.58       0  \n",
       "2        113931.57       1  \n",
       "3         93826.63       0  \n",
       "4         79084.10       0  \n",
       "5        149756.71       1  \n",
       "6         10062.80       0  \n",
       "7        119346.88       1  \n",
       "8         74940.50       0  \n",
       "9         71725.73       0  "
      ]
     },
     "execution_count": 2,
     "metadata": {},
     "output_type": "execute_result"
    }
   ],
   "source": [
    "data_clients = pd.read_csv('/datasets/Churn.csv')\n",
    "data_clients.head(10)"
   ]
  },
  {
   "cell_type": "code",
   "execution_count": 3,
   "metadata": {},
   "outputs": [
    {
     "name": "stdout",
     "output_type": "stream",
     "text": [
      "<class 'pandas.core.frame.DataFrame'>\n",
      "RangeIndex: 10000 entries, 0 to 9999\n",
      "Data columns (total 14 columns):\n",
      " #   Column           Non-Null Count  Dtype  \n",
      "---  ------           --------------  -----  \n",
      " 0   RowNumber        10000 non-null  int64  \n",
      " 1   CustomerId       10000 non-null  int64  \n",
      " 2   Surname          10000 non-null  object \n",
      " 3   CreditScore      10000 non-null  int64  \n",
      " 4   Geography        10000 non-null  object \n",
      " 5   Gender           10000 non-null  object \n",
      " 6   Age              10000 non-null  int64  \n",
      " 7   Tenure           9091 non-null   float64\n",
      " 8   Balance          10000 non-null  float64\n",
      " 9   NumOfProducts    10000 non-null  int64  \n",
      " 10  HasCrCard        10000 non-null  int64  \n",
      " 11  IsActiveMember   10000 non-null  int64  \n",
      " 12  EstimatedSalary  10000 non-null  float64\n",
      " 13  Exited           10000 non-null  int64  \n",
      "dtypes: float64(3), int64(8), object(3)\n",
      "memory usage: 1.1+ MB\n"
     ]
    }
   ],
   "source": [
    "data_clients.info()"
   ]
  },
  {
   "cell_type": "markdown",
   "metadata": {},
   "source": [
    "В столбце <b>\"Tenure\"</b> есть пропуски. Заменим их на минимальные значения."
   ]
  },
  {
   "cell_type": "code",
   "execution_count": 4,
   "metadata": {},
   "outputs": [],
   "source": [
    "data_clients['Tenure'] = data_clients['Tenure'].fillna(0)"
   ]
  },
  {
   "cell_type": "code",
   "execution_count": 5,
   "metadata": {},
   "outputs": [
    {
     "name": "stdout",
     "output_type": "stream",
     "text": [
      "<class 'pandas.core.frame.DataFrame'>\n",
      "RangeIndex: 10000 entries, 0 to 9999\n",
      "Data columns (total 14 columns):\n",
      " #   Column           Non-Null Count  Dtype  \n",
      "---  ------           --------------  -----  \n",
      " 0   RowNumber        10000 non-null  int64  \n",
      " 1   CustomerId       10000 non-null  int64  \n",
      " 2   Surname          10000 non-null  object \n",
      " 3   CreditScore      10000 non-null  int64  \n",
      " 4   Geography        10000 non-null  object \n",
      " 5   Gender           10000 non-null  object \n",
      " 6   Age              10000 non-null  int64  \n",
      " 7   Tenure           10000 non-null  float64\n",
      " 8   Balance          10000 non-null  float64\n",
      " 9   NumOfProducts    10000 non-null  int64  \n",
      " 10  HasCrCard        10000 non-null  int64  \n",
      " 11  IsActiveMember   10000 non-null  int64  \n",
      " 12  EstimatedSalary  10000 non-null  float64\n",
      " 13  Exited           10000 non-null  int64  \n",
      "dtypes: float64(3), int64(8), object(3)\n",
      "memory usage: 1.1+ MB\n"
     ]
    }
   ],
   "source": [
    "data_clients.info()"
   ]
  },
  {
   "cell_type": "code",
   "execution_count": 6,
   "metadata": {},
   "outputs": [
    {
     "data": {
      "text/html": [
       "<div>\n",
       "<style scoped>\n",
       "    .dataframe tbody tr th:only-of-type {\n",
       "        vertical-align: middle;\n",
       "    }\n",
       "\n",
       "    .dataframe tbody tr th {\n",
       "        vertical-align: top;\n",
       "    }\n",
       "\n",
       "    .dataframe thead th {\n",
       "        text-align: right;\n",
       "    }\n",
       "</style>\n",
       "<table border=\"1\" class=\"dataframe\">\n",
       "  <thead>\n",
       "    <tr style=\"text-align: right;\">\n",
       "      <th></th>\n",
       "      <th>RowNumber</th>\n",
       "      <th>CustomerId</th>\n",
       "      <th>CreditScore</th>\n",
       "      <th>Age</th>\n",
       "      <th>Tenure</th>\n",
       "      <th>Balance</th>\n",
       "      <th>NumOfProducts</th>\n",
       "      <th>HasCrCard</th>\n",
       "      <th>IsActiveMember</th>\n",
       "      <th>EstimatedSalary</th>\n",
       "      <th>Exited</th>\n",
       "    </tr>\n",
       "  </thead>\n",
       "  <tbody>\n",
       "    <tr>\n",
       "      <th>count</th>\n",
       "      <td>10000.00000</td>\n",
       "      <td>1.000000e+04</td>\n",
       "      <td>10000.000000</td>\n",
       "      <td>10000.000000</td>\n",
       "      <td>10000.000000</td>\n",
       "      <td>10000.000000</td>\n",
       "      <td>10000.000000</td>\n",
       "      <td>10000.00000</td>\n",
       "      <td>10000.000000</td>\n",
       "      <td>10000.000000</td>\n",
       "      <td>10000.000000</td>\n",
       "    </tr>\n",
       "    <tr>\n",
       "      <th>mean</th>\n",
       "      <td>5000.50000</td>\n",
       "      <td>1.569094e+07</td>\n",
       "      <td>650.528800</td>\n",
       "      <td>38.921800</td>\n",
       "      <td>4.543400</td>\n",
       "      <td>76485.889288</td>\n",
       "      <td>1.530200</td>\n",
       "      <td>0.70550</td>\n",
       "      <td>0.515100</td>\n",
       "      <td>100090.239881</td>\n",
       "      <td>0.203700</td>\n",
       "    </tr>\n",
       "    <tr>\n",
       "      <th>std</th>\n",
       "      <td>2886.89568</td>\n",
       "      <td>7.193619e+04</td>\n",
       "      <td>96.653299</td>\n",
       "      <td>10.487806</td>\n",
       "      <td>3.111573</td>\n",
       "      <td>62397.405202</td>\n",
       "      <td>0.581654</td>\n",
       "      <td>0.45584</td>\n",
       "      <td>0.499797</td>\n",
       "      <td>57510.492818</td>\n",
       "      <td>0.402769</td>\n",
       "    </tr>\n",
       "    <tr>\n",
       "      <th>min</th>\n",
       "      <td>1.00000</td>\n",
       "      <td>1.556570e+07</td>\n",
       "      <td>350.000000</td>\n",
       "      <td>18.000000</td>\n",
       "      <td>0.000000</td>\n",
       "      <td>0.000000</td>\n",
       "      <td>1.000000</td>\n",
       "      <td>0.00000</td>\n",
       "      <td>0.000000</td>\n",
       "      <td>11.580000</td>\n",
       "      <td>0.000000</td>\n",
       "    </tr>\n",
       "    <tr>\n",
       "      <th>25%</th>\n",
       "      <td>2500.75000</td>\n",
       "      <td>1.562853e+07</td>\n",
       "      <td>584.000000</td>\n",
       "      <td>32.000000</td>\n",
       "      <td>2.000000</td>\n",
       "      <td>0.000000</td>\n",
       "      <td>1.000000</td>\n",
       "      <td>0.00000</td>\n",
       "      <td>0.000000</td>\n",
       "      <td>51002.110000</td>\n",
       "      <td>0.000000</td>\n",
       "    </tr>\n",
       "    <tr>\n",
       "      <th>50%</th>\n",
       "      <td>5000.50000</td>\n",
       "      <td>1.569074e+07</td>\n",
       "      <td>652.000000</td>\n",
       "      <td>37.000000</td>\n",
       "      <td>4.000000</td>\n",
       "      <td>97198.540000</td>\n",
       "      <td>1.000000</td>\n",
       "      <td>1.00000</td>\n",
       "      <td>1.000000</td>\n",
       "      <td>100193.915000</td>\n",
       "      <td>0.000000</td>\n",
       "    </tr>\n",
       "    <tr>\n",
       "      <th>75%</th>\n",
       "      <td>7500.25000</td>\n",
       "      <td>1.575323e+07</td>\n",
       "      <td>718.000000</td>\n",
       "      <td>44.000000</td>\n",
       "      <td>7.000000</td>\n",
       "      <td>127644.240000</td>\n",
       "      <td>2.000000</td>\n",
       "      <td>1.00000</td>\n",
       "      <td>1.000000</td>\n",
       "      <td>149388.247500</td>\n",
       "      <td>0.000000</td>\n",
       "    </tr>\n",
       "    <tr>\n",
       "      <th>max</th>\n",
       "      <td>10000.00000</td>\n",
       "      <td>1.581569e+07</td>\n",
       "      <td>850.000000</td>\n",
       "      <td>92.000000</td>\n",
       "      <td>10.000000</td>\n",
       "      <td>250898.090000</td>\n",
       "      <td>4.000000</td>\n",
       "      <td>1.00000</td>\n",
       "      <td>1.000000</td>\n",
       "      <td>199992.480000</td>\n",
       "      <td>1.000000</td>\n",
       "    </tr>\n",
       "  </tbody>\n",
       "</table>\n",
       "</div>"
      ],
      "text/plain": [
       "         RowNumber    CustomerId   CreditScore           Age        Tenure  \\\n",
       "count  10000.00000  1.000000e+04  10000.000000  10000.000000  10000.000000   \n",
       "mean    5000.50000  1.569094e+07    650.528800     38.921800      4.543400   \n",
       "std     2886.89568  7.193619e+04     96.653299     10.487806      3.111573   \n",
       "min        1.00000  1.556570e+07    350.000000     18.000000      0.000000   \n",
       "25%     2500.75000  1.562853e+07    584.000000     32.000000      2.000000   \n",
       "50%     5000.50000  1.569074e+07    652.000000     37.000000      4.000000   \n",
       "75%     7500.25000  1.575323e+07    718.000000     44.000000      7.000000   \n",
       "max    10000.00000  1.581569e+07    850.000000     92.000000     10.000000   \n",
       "\n",
       "             Balance  NumOfProducts    HasCrCard  IsActiveMember  \\\n",
       "count   10000.000000   10000.000000  10000.00000    10000.000000   \n",
       "mean    76485.889288       1.530200      0.70550        0.515100   \n",
       "std     62397.405202       0.581654      0.45584        0.499797   \n",
       "min         0.000000       1.000000      0.00000        0.000000   \n",
       "25%         0.000000       1.000000      0.00000        0.000000   \n",
       "50%     97198.540000       1.000000      1.00000        1.000000   \n",
       "75%    127644.240000       2.000000      1.00000        1.000000   \n",
       "max    250898.090000       4.000000      1.00000        1.000000   \n",
       "\n",
       "       EstimatedSalary        Exited  \n",
       "count     10000.000000  10000.000000  \n",
       "mean     100090.239881      0.203700  \n",
       "std       57510.492818      0.402769  \n",
       "min          11.580000      0.000000  \n",
       "25%       51002.110000      0.000000  \n",
       "50%      100193.915000      0.000000  \n",
       "75%      149388.247500      0.000000  \n",
       "max      199992.480000      1.000000  "
      ]
     },
     "execution_count": 6,
     "metadata": {},
     "output_type": "execute_result"
    }
   ],
   "source": [
    "data_clients.describe()"
   ]
  },
  {
   "cell_type": "markdown",
   "metadata": {},
   "source": [
    "Проверим на дубликаты"
   ]
  },
  {
   "cell_type": "code",
   "execution_count": 7,
   "metadata": {},
   "outputs": [
    {
     "data": {
      "text/plain": [
       "0"
      ]
     },
     "execution_count": 7,
     "metadata": {},
     "output_type": "execute_result"
    }
   ],
   "source": [
    "data_clients.duplicated().sum()"
   ]
  },
  {
   "cell_type": "markdown",
   "metadata": {},
   "source": [
    "<b>Вывод</b><br>\n",
    "Датасет содержить 10000 строк, без явных пропусков и дубликатов.\n",
    "CustomerId — уникальный идентификатор клиента, так как дубликатов нет, его можно удалить."
   ]
  },
  {
   "cell_type": "markdown",
   "metadata": {},
   "source": [
    "## Исследование задачи"
   ]
  },
  {
   "cell_type": "markdown",
   "metadata": {},
   "source": [
    "### Подготовим данные для машинного обучения"
   ]
  },
  {
   "cell_type": "markdown",
   "metadata": {},
   "source": [
    "Удалим столбцы индентификаторы"
   ]
  },
  {
   "cell_type": "code",
   "execution_count": 8,
   "metadata": {},
   "outputs": [
    {
     "data": {
      "text/html": [
       "<div>\n",
       "<style scoped>\n",
       "    .dataframe tbody tr th:only-of-type {\n",
       "        vertical-align: middle;\n",
       "    }\n",
       "\n",
       "    .dataframe tbody tr th {\n",
       "        vertical-align: top;\n",
       "    }\n",
       "\n",
       "    .dataframe thead th {\n",
       "        text-align: right;\n",
       "    }\n",
       "</style>\n",
       "<table border=\"1\" class=\"dataframe\">\n",
       "  <thead>\n",
       "    <tr style=\"text-align: right;\">\n",
       "      <th></th>\n",
       "      <th>CreditScore</th>\n",
       "      <th>Geography</th>\n",
       "      <th>Gender</th>\n",
       "      <th>Age</th>\n",
       "      <th>Tenure</th>\n",
       "      <th>Balance</th>\n",
       "      <th>NumOfProducts</th>\n",
       "      <th>HasCrCard</th>\n",
       "      <th>IsActiveMember</th>\n",
       "      <th>EstimatedSalary</th>\n",
       "      <th>Exited</th>\n",
       "    </tr>\n",
       "  </thead>\n",
       "  <tbody>\n",
       "    <tr>\n",
       "      <th>0</th>\n",
       "      <td>619</td>\n",
       "      <td>France</td>\n",
       "      <td>Female</td>\n",
       "      <td>42</td>\n",
       "      <td>2.0</td>\n",
       "      <td>0.00</td>\n",
       "      <td>1</td>\n",
       "      <td>1</td>\n",
       "      <td>1</td>\n",
       "      <td>101348.88</td>\n",
       "      <td>1</td>\n",
       "    </tr>\n",
       "    <tr>\n",
       "      <th>1</th>\n",
       "      <td>608</td>\n",
       "      <td>Spain</td>\n",
       "      <td>Female</td>\n",
       "      <td>41</td>\n",
       "      <td>1.0</td>\n",
       "      <td>83807.86</td>\n",
       "      <td>1</td>\n",
       "      <td>0</td>\n",
       "      <td>1</td>\n",
       "      <td>112542.58</td>\n",
       "      <td>0</td>\n",
       "    </tr>\n",
       "    <tr>\n",
       "      <th>2</th>\n",
       "      <td>502</td>\n",
       "      <td>France</td>\n",
       "      <td>Female</td>\n",
       "      <td>42</td>\n",
       "      <td>8.0</td>\n",
       "      <td>159660.80</td>\n",
       "      <td>3</td>\n",
       "      <td>1</td>\n",
       "      <td>0</td>\n",
       "      <td>113931.57</td>\n",
       "      <td>1</td>\n",
       "    </tr>\n",
       "    <tr>\n",
       "      <th>3</th>\n",
       "      <td>699</td>\n",
       "      <td>France</td>\n",
       "      <td>Female</td>\n",
       "      <td>39</td>\n",
       "      <td>1.0</td>\n",
       "      <td>0.00</td>\n",
       "      <td>2</td>\n",
       "      <td>0</td>\n",
       "      <td>0</td>\n",
       "      <td>93826.63</td>\n",
       "      <td>0</td>\n",
       "    </tr>\n",
       "    <tr>\n",
       "      <th>4</th>\n",
       "      <td>850</td>\n",
       "      <td>Spain</td>\n",
       "      <td>Female</td>\n",
       "      <td>43</td>\n",
       "      <td>2.0</td>\n",
       "      <td>125510.82</td>\n",
       "      <td>1</td>\n",
       "      <td>1</td>\n",
       "      <td>1</td>\n",
       "      <td>79084.10</td>\n",
       "      <td>0</td>\n",
       "    </tr>\n",
       "  </tbody>\n",
       "</table>\n",
       "</div>"
      ],
      "text/plain": [
       "   CreditScore Geography  Gender  Age  Tenure    Balance  NumOfProducts  \\\n",
       "0          619    France  Female   42     2.0       0.00              1   \n",
       "1          608     Spain  Female   41     1.0   83807.86              1   \n",
       "2          502    France  Female   42     8.0  159660.80              3   \n",
       "3          699    France  Female   39     1.0       0.00              2   \n",
       "4          850     Spain  Female   43     2.0  125510.82              1   \n",
       "\n",
       "   HasCrCard  IsActiveMember  EstimatedSalary  Exited  \n",
       "0          1               1        101348.88       1  \n",
       "1          0               1        112542.58       0  \n",
       "2          1               0        113931.57       1  \n",
       "3          0               0         93826.63       0  \n",
       "4          1               1         79084.10       0  "
      ]
     },
     "execution_count": 8,
     "metadata": {},
     "output_type": "execute_result"
    }
   ],
   "source": [
    "data_clients_m = data_clients.drop(['RowNumber','CustomerId', 'Surname'], axis=1)\n",
    "data_clients_m.head()"
   ]
  },
  {
   "cell_type": "code",
   "execution_count": 9,
   "metadata": {},
   "outputs": [
    {
     "data": {
      "text/plain": [
       "array(['France', 'Spain', 'Germany'], dtype=object)"
      ]
     },
     "execution_count": 9,
     "metadata": {},
     "output_type": "execute_result"
    }
   ],
   "source": [
    "data_clients_m['Geography'].unique()"
   ]
  },
  {
   "cell_type": "code",
   "execution_count": 10,
   "metadata": {},
   "outputs": [
    {
     "data": {
      "text/plain": [
       "array(['Female', 'Male'], dtype=object)"
      ]
     },
     "execution_count": 10,
     "metadata": {},
     "output_type": "execute_result"
    }
   ],
   "source": [
    "data_clients_m['Gender'].unique()"
   ]
  },
  {
   "cell_type": "markdown",
   "metadata": {},
   "source": [
    "Подготовим данные методом OHE, с защитой от дамми-ловушки"
   ]
  },
  {
   "cell_type": "code",
   "execution_count": 11,
   "metadata": {},
   "outputs": [
    {
     "data": {
      "text/html": [
       "<div>\n",
       "<style scoped>\n",
       "    .dataframe tbody tr th:only-of-type {\n",
       "        vertical-align: middle;\n",
       "    }\n",
       "\n",
       "    .dataframe tbody tr th {\n",
       "        vertical-align: top;\n",
       "    }\n",
       "\n",
       "    .dataframe thead th {\n",
       "        text-align: right;\n",
       "    }\n",
       "</style>\n",
       "<table border=\"1\" class=\"dataframe\">\n",
       "  <thead>\n",
       "    <tr style=\"text-align: right;\">\n",
       "      <th></th>\n",
       "      <th>CreditScore</th>\n",
       "      <th>Age</th>\n",
       "      <th>Tenure</th>\n",
       "      <th>Balance</th>\n",
       "      <th>NumOfProducts</th>\n",
       "      <th>HasCrCard</th>\n",
       "      <th>IsActiveMember</th>\n",
       "      <th>EstimatedSalary</th>\n",
       "      <th>Exited</th>\n",
       "      <th>Geography_Germany</th>\n",
       "      <th>Geography_Spain</th>\n",
       "      <th>Gender_Male</th>\n",
       "    </tr>\n",
       "  </thead>\n",
       "  <tbody>\n",
       "    <tr>\n",
       "      <th>0</th>\n",
       "      <td>619</td>\n",
       "      <td>42</td>\n",
       "      <td>2.0</td>\n",
       "      <td>0.00</td>\n",
       "      <td>1</td>\n",
       "      <td>1</td>\n",
       "      <td>1</td>\n",
       "      <td>101348.88</td>\n",
       "      <td>1</td>\n",
       "      <td>0</td>\n",
       "      <td>0</td>\n",
       "      <td>0</td>\n",
       "    </tr>\n",
       "    <tr>\n",
       "      <th>1</th>\n",
       "      <td>608</td>\n",
       "      <td>41</td>\n",
       "      <td>1.0</td>\n",
       "      <td>83807.86</td>\n",
       "      <td>1</td>\n",
       "      <td>0</td>\n",
       "      <td>1</td>\n",
       "      <td>112542.58</td>\n",
       "      <td>0</td>\n",
       "      <td>0</td>\n",
       "      <td>1</td>\n",
       "      <td>0</td>\n",
       "    </tr>\n",
       "    <tr>\n",
       "      <th>2</th>\n",
       "      <td>502</td>\n",
       "      <td>42</td>\n",
       "      <td>8.0</td>\n",
       "      <td>159660.80</td>\n",
       "      <td>3</td>\n",
       "      <td>1</td>\n",
       "      <td>0</td>\n",
       "      <td>113931.57</td>\n",
       "      <td>1</td>\n",
       "      <td>0</td>\n",
       "      <td>0</td>\n",
       "      <td>0</td>\n",
       "    </tr>\n",
       "    <tr>\n",
       "      <th>3</th>\n",
       "      <td>699</td>\n",
       "      <td>39</td>\n",
       "      <td>1.0</td>\n",
       "      <td>0.00</td>\n",
       "      <td>2</td>\n",
       "      <td>0</td>\n",
       "      <td>0</td>\n",
       "      <td>93826.63</td>\n",
       "      <td>0</td>\n",
       "      <td>0</td>\n",
       "      <td>0</td>\n",
       "      <td>0</td>\n",
       "    </tr>\n",
       "    <tr>\n",
       "      <th>4</th>\n",
       "      <td>850</td>\n",
       "      <td>43</td>\n",
       "      <td>2.0</td>\n",
       "      <td>125510.82</td>\n",
       "      <td>1</td>\n",
       "      <td>1</td>\n",
       "      <td>1</td>\n",
       "      <td>79084.10</td>\n",
       "      <td>0</td>\n",
       "      <td>0</td>\n",
       "      <td>1</td>\n",
       "      <td>0</td>\n",
       "    </tr>\n",
       "  </tbody>\n",
       "</table>\n",
       "</div>"
      ],
      "text/plain": [
       "   CreditScore  Age  Tenure    Balance  NumOfProducts  HasCrCard  \\\n",
       "0          619   42     2.0       0.00              1          1   \n",
       "1          608   41     1.0   83807.86              1          0   \n",
       "2          502   42     8.0  159660.80              3          1   \n",
       "3          699   39     1.0       0.00              2          0   \n",
       "4          850   43     2.0  125510.82              1          1   \n",
       "\n",
       "   IsActiveMember  EstimatedSalary  Exited  Geography_Germany  \\\n",
       "0               1        101348.88       1                  0   \n",
       "1               1        112542.58       0                  0   \n",
       "2               0        113931.57       1                  0   \n",
       "3               0         93826.63       0                  0   \n",
       "4               1         79084.10       0                  0   \n",
       "\n",
       "   Geography_Spain  Gender_Male  \n",
       "0                0            0  \n",
       "1                1            0  \n",
       "2                0            0  \n",
       "3                0            0  \n",
       "4                1            0  "
      ]
     },
     "execution_count": 11,
     "metadata": {},
     "output_type": "execute_result"
    }
   ],
   "source": [
    "data_clients_m = pd.get_dummies(data_clients_m, drop_first=True)\n",
    "data_clients_m.head()"
   ]
  },
  {
   "cell_type": "markdown",
   "metadata": {},
   "source": [
    "Применим модели: логистическая регрессия, случайный лес, решающее дерево. Разобъем данные - 60, 20, 20."
   ]
  },
  {
   "cell_type": "markdown",
   "metadata": {},
   "source": [
    "Разделим на признаки и целевой признак"
   ]
  },
  {
   "cell_type": "code",
   "execution_count": 12,
   "metadata": {},
   "outputs": [
    {
     "name": "stdout",
     "output_type": "stream",
     "text": [
      "(6000, 11) (2000, 11) (2000, 11)\n",
      "(6000,) (2000,) (2000,)\n"
     ]
    }
   ],
   "source": [
    "features = data_clients_m.drop('Exited', axis=1)\n",
    "target = data_clients_m['Exited']\n",
    "\n",
    "features_train, features_validtest, target_train, target_validtest = train_test_split(features,\n",
    "                                                    target,\n",
    "                                                    train_size=0.6,\n",
    "                                                    random_state=12345)\n",
    "\n",
    "features_valid, features_test, target_valid, target_test = train_test_split(features_validtest,\n",
    "                                                    target_validtest,\n",
    "                                                    train_size=0.5,\n",
    "                                                    random_state=12345)\n",
    "print(features_train.shape, features_valid.shape, features_test.shape)\n",
    "print(target_train.shape, target_valid.shape, target_test.shape)"
   ]
  },
  {
   "cell_type": "markdown",
   "metadata": {},
   "source": [
    "Решающее дерево."
   ]
  },
  {
   "cell_type": "code",
   "execution_count": 13,
   "metadata": {},
   "outputs": [
    {
     "name": "stdout",
     "output_type": "stream",
     "text": [
      "дерево решений 0.858\n"
     ]
    }
   ],
   "source": [
    "model = DecisionTreeClassifier(random_state=12345, max_depth=6)\n",
    "DTC_model = model.fit(features_train, target_train).score(features_valid, target_valid)\n",
    "predicted_valid = model.predict(features_valid)\n",
    "print(\"дерево решений\", DTC_model)"
   ]
  },
  {
   "cell_type": "markdown",
   "metadata": {},
   "source": [
    "Cлучайный лес."
   ]
  },
  {
   "cell_type": "code",
   "execution_count": 14,
   "metadata": {},
   "outputs": [
    {
     "name": "stdout",
     "output_type": "stream",
     "text": [
      "cлучайный лес 0.8585\n"
     ]
    }
   ],
   "source": [
    "model = RandomForestClassifier(random_state=12345, n_estimators=100)\n",
    "RFC_model = model.fit(features_train, target_train).score(features_valid, target_valid)\n",
    "predicted_valid = model.predict(features_valid)\n",
    "print(\"cлучайный лес\", RFC_model)"
   ]
  },
  {
   "cell_type": "markdown",
   "metadata": {},
   "source": [
    "Логистическая регрессия."
   ]
  },
  {
   "cell_type": "code",
   "execution_count": 15,
   "metadata": {},
   "outputs": [
    {
     "name": "stdout",
     "output_type": "stream",
     "text": [
      "логистическая регрессия 0.7815\n"
     ]
    }
   ],
   "source": [
    "model = LogisticRegression(random_state=12345, solver='liblinear')\n",
    "LR_model = model.fit(features_train, target_train).score(features_valid, target_valid)\n",
    "predicted_valid = model.predict(features_valid)\n",
    "print(\"логистическая регрессия\", LR_model)"
   ]
  },
  {
   "cell_type": "markdown",
   "metadata": {},
   "source": [
    "<b>Решающее дерево</b><br>\n",
    "Точность попадания по классам 0.858<br>\n",
    "\n",
    "<b>Случайный лес</b><br>\n",
    "Точность попадания по классам 0.8585<br>\n",
    "\n",
    "<b>Логистическая регрессия</b><br>\n",
    "Точность попадания по классам 0.7815<br>"
   ]
  },
  {
   "cell_type": "markdown",
   "metadata": {},
   "source": [
    "Построим матрицы ошибок для моделей"
   ]
  },
  {
   "cell_type": "markdown",
   "metadata": {},
   "source": [
    "Случайный лес"
   ]
  },
  {
   "cell_type": "code",
   "execution_count": 16,
   "metadata": {},
   "outputs": [
    {
     "data": {
      "text/plain": [
       "array([[1521,   61],\n",
       "       [ 222,  196]])"
      ]
     },
     "execution_count": 16,
     "metadata": {},
     "output_type": "execute_result"
    }
   ],
   "source": [
    "model_RFC = RandomForestClassifier(random_state=12345, n_estimators = 100)\n",
    "model_RFC.fit(features_train, target_train)\n",
    "RFC_prediction = model_RFC.predict(features_valid)\n",
    "confusion_matrix(target_valid, RFC_prediction)"
   ]
  },
  {
   "cell_type": "code",
   "execution_count": 17,
   "metadata": {},
   "outputs": [
    {
     "name": "stdout",
     "output_type": "stream",
     "text": [
      "Полнота 0.4688995215311005\n",
      "Точность 0.7626459143968871\n",
      "F1-мера 0.5807407407407408\n"
     ]
    }
   ],
   "source": [
    "print(\"Полнота\" , recall_score(target_valid, RFC_prediction))\n",
    "print(\"Точность\", precision_score(target_valid, RFC_prediction))\n",
    "print(\"F1-мера\", f1_score(target_valid, RFC_prediction))"
   ]
  },
  {
   "cell_type": "markdown",
   "metadata": {},
   "source": [
    "Оценим модель в целом, не привязываясь к конкретному порогу"
   ]
  },
  {
   "cell_type": "code",
   "execution_count": 18,
   "metadata": {},
   "outputs": [
    {
     "name": "stdout",
     "output_type": "stream",
     "text": [
      "AUC-ROC 0.8424114893025\n"
     ]
    }
   ],
   "source": [
    "RFC_prob = model_RFC.predict_proba(features_valid)[:, 1]\n",
    "auc_roc_RFC = roc_auc_score(target_valid, RFC_prob)\n",
    "print(\"AUC-ROC\", auc_roc_RFC)"
   ]
  },
  {
   "cell_type": "markdown",
   "metadata": {},
   "source": [
    "Дерево решений"
   ]
  },
  {
   "cell_type": "code",
   "execution_count": 19,
   "metadata": {},
   "outputs": [
    {
     "data": {
      "text/plain": [
       "array([[1376,  206],\n",
       "       [ 220,  198]])"
      ]
     },
     "execution_count": 19,
     "metadata": {},
     "output_type": "execute_result"
    }
   ],
   "source": [
    "model_DTC = DecisionTreeClassifier(random_state=12345)\n",
    "model_DTC.fit(features_train, target_train)\n",
    "DTC_prediction = model_DTC.predict(features_valid)\n",
    "confusion_matrix(target_valid, DTC_prediction)"
   ]
  },
  {
   "cell_type": "code",
   "execution_count": 20,
   "metadata": {},
   "outputs": [
    {
     "name": "stdout",
     "output_type": "stream",
     "text": [
      "Полнота 0.47368421052631576\n",
      "Точность 0.4900990099009901\n",
      "F1-мера 0.4817518248175182\n"
     ]
    }
   ],
   "source": [
    "print(\"Полнота\" , recall_score(target_valid, DTC_prediction))\n",
    "print(\"Точность\", precision_score(target_valid, DTC_prediction))\n",
    "print(\"F1-мера\", f1_score(target_valid, DTC_prediction))"
   ]
  },
  {
   "cell_type": "markdown",
   "metadata": {},
   "source": [
    "Низкое значние F1- меры свидетельствует о низком качестве модели, проблема в точности."
   ]
  },
  {
   "cell_type": "markdown",
   "metadata": {},
   "source": [
    "Оценим модель в целом, не привязываясь к конкретному порогу"
   ]
  },
  {
   "cell_type": "code",
   "execution_count": 21,
   "metadata": {},
   "outputs": [
    {
     "name": "stdout",
     "output_type": "stream",
     "text": [
      "AUC-ROC 0.6717346463503893\n"
     ]
    }
   ],
   "source": [
    "DTC_prob = model_DTC.predict_proba(features_valid)[:, 1]\n",
    "auc_roc_DTC = roc_auc_score(target_valid, DTC_prob)\n",
    "print(\"AUC-ROC\", auc_roc_DTC)"
   ]
  },
  {
   "cell_type": "markdown",
   "metadata": {},
   "source": [
    "Логистическая регрессия"
   ]
  },
  {
   "cell_type": "code",
   "execution_count": 22,
   "metadata": {},
   "outputs": [
    {
     "data": {
      "text/plain": [
       "array([[1543,   39],\n",
       "       [ 398,   20]])"
      ]
     },
     "execution_count": 22,
     "metadata": {},
     "output_type": "execute_result"
    }
   ],
   "source": [
    "model_LR = LogisticRegression(solver = 'liblinear')\n",
    "model_LR.fit(features_train, target_train)\n",
    "LR_prediction = model_LR.predict(features_valid)\n",
    "confusion_matrix(target_valid, LR_prediction)"
   ]
  },
  {
   "cell_type": "code",
   "execution_count": 23,
   "metadata": {},
   "outputs": [
    {
     "name": "stdout",
     "output_type": "stream",
     "text": [
      "Полнота 0.04784688995215311\n",
      "Точность 0.3389830508474576\n",
      "F1-мера 0.08385744234800838\n"
     ]
    }
   ],
   "source": [
    "print(\"Полнота\" , recall_score(target_valid, LR_prediction))\n",
    "print(\"Точность\", precision_score(target_valid, LR_prediction))\n",
    "print(\"F1-мера\", f1_score(target_valid, LR_prediction))"
   ]
  },
  {
   "cell_type": "markdown",
   "metadata": {},
   "source": [
    "Оценим модель в целом, не привязываясь к конкретному порогу"
   ]
  },
  {
   "cell_type": "code",
   "execution_count": 24,
   "metadata": {},
   "outputs": [
    {
     "name": "stdout",
     "output_type": "stream",
     "text": [
      "AUC-ROC 0.6727584246214894\n"
     ]
    }
   ],
   "source": [
    "LR_prob = model_LR.predict_proba(features_valid)[:, 1]\n",
    "auc_roc_LR = roc_auc_score(target_valid, LR_prob)\n",
    "print(\"AUC-ROC\", auc_roc_LR)"
   ]
  },
  {
   "cell_type": "markdown",
   "metadata": {},
   "source": [
    "<b>Вывод</b><br>\n",
    "Ни одна модель не показал хороший результат, вероятно проблема в дисбалансе классов.\n",
    "В нашей выборке отрицательных ответов около 80% , положитительных  около 20%.\n",
    "Случайный лес выдает заметно больше качественных предсказаний, но также сильно склоняется к ложно позитивным предсказаниям. Точность и качество также низкое.\n",
    "Матрица показала, что дерево решений склонно выдавать позитивные предсказания, очень высокое количество ложных позитивных предсказания.\n",
    "Логистическая регрессия выдает большое количество негативных предсказаний — высокая точность модели объясняется высокой долей негативных ответов в валидационной выборке.\n",
    "\n",
    "В данных сущестует дисбаланс классов. Возможно он влияет на качество изучаемых моделей.\n",
    "\n",
    "Все модели имеют recall ниже, чем percision, из-за перекоса данных, что влияет на F-меру."
   ]
  },
  {
   "cell_type": "markdown",
   "metadata": {},
   "source": [
    "## Борьба с дисбалансом"
   ]
  },
  {
   "cell_type": "markdown",
   "metadata": {},
   "source": [
    "Напишем функцию увеличения обьектов положительного класса"
   ]
  },
  {
   "cell_type": "code",
   "execution_count": 25,
   "metadata": {},
   "outputs": [],
   "source": [
    "def up(features, target, repeat):\n",
    "\n",
    "    features_zeros = features[target == 0]\n",
    "    features_ones = features[target == 1]\n",
    "    target_zeros = target[target == 0]\n",
    "    target_ones = target[target == 1]\n",
    "    \n",
    "    features_up = pd.concat([features_zeros] + [features_ones] * repeat)\n",
    "    target_up = pd.concat([target_zeros] + [target_ones] * repeat)\n",
    "    \n",
    "    features_up, target_up = shuffle(features_up, target_up, random_state=12345)\n",
    "    \n",
    "    return features_up, target_up"
   ]
  },
  {
   "cell_type": "markdown",
   "metadata": {},
   "source": [
    "увеличим количество положительных ответов в 4 раза"
   ]
  },
  {
   "cell_type": "code",
   "execution_count": 26,
   "metadata": {},
   "outputs": [],
   "source": [
    "features_up, target_up = up(features_train, target_train, 4)"
   ]
  },
  {
   "cell_type": "code",
   "execution_count": 27,
   "metadata": {},
   "outputs": [
    {
     "data": {
      "text/plain": [
       "(9588, 11)"
      ]
     },
     "execution_count": 27,
     "metadata": {},
     "output_type": "execute_result"
    }
   ],
   "source": [
    "features_up.shape"
   ]
  },
  {
   "cell_type": "code",
   "execution_count": 28,
   "metadata": {},
   "outputs": [
    {
     "data": {
      "text/plain": [
       "0.49895702962035876"
      ]
     },
     "execution_count": 28,
     "metadata": {},
     "output_type": "execute_result"
    }
   ],
   "source": [
    "target_up.mean()"
   ]
  },
  {
   "cell_type": "markdown",
   "metadata": {},
   "source": [
    "Баланс классов примерно равен"
   ]
  },
  {
   "cell_type": "code",
   "execution_count": 29,
   "metadata": {},
   "outputs": [
    {
     "name": "stdout",
     "output_type": "stream",
     "text": [
      "Точность:дерево решений 0.7845 случайный лес  0.8585 логистческая регрессия 0.7815\n"
     ]
    }
   ],
   "source": [
    "model_DTC = DecisionTreeClassifier(random_state=123)\n",
    "DTC_score = model_DTC.fit(features_train, target_train).score(features_valid, target_valid)\n",
    "    \n",
    "model_RFC = RandomForestClassifier(random_state=12345, n_estimators = 100)\n",
    "RFC_score = model_RFC.fit(features_train, target_train).score(features_valid, target_valid)\n",
    "    \n",
    "model_LgR = LogisticRegression(solver = 'liblinear')\n",
    "LR_score = model_LR.fit(features_train, target_train).score(features_valid, target_valid)\n",
    "print(\"Точность:\" \"дерево решений\", DTC_score, \"случайный лес \", RFC_score, \"логистческая регрессия\", LR_score)"
   ]
  },
  {
   "cell_type": "code",
   "execution_count": 30,
   "metadata": {},
   "outputs": [
    {
     "name": "stdout",
     "output_type": "stream",
     "text": [
      "Точность:дерево решений 0.7725 случайный лес  0.849 логистческая регрессия 0.6605\n"
     ]
    }
   ],
   "source": [
    "model_DTC = DecisionTreeClassifier(random_state=123)\n",
    "DTC_score = model_DTC.fit(features_up, target_up).score(features_valid, target_valid)\n",
    "    \n",
    "model_RFC = RandomForestClassifier(random_state=12345, n_estimators = 100)\n",
    "RFC_score = model_RFC.fit(features_up, target_up).score(features_valid, target_valid)\n",
    "    \n",
    "model_LgR = LogisticRegression(solver = 'liblinear')\n",
    "LR_score = model_LR.fit(features_up, target_up).score(features_valid, target_valid)\n",
    "print(\"Точность:\" \"дерево решений\", DTC_score, \"случайный лес \", RFC_score, \"логистческая регрессия\", LR_score)"
   ]
  },
  {
   "cell_type": "markdown",
   "metadata": {},
   "source": [
    "Точность моделей изменились не сильно."
   ]
  },
  {
   "cell_type": "markdown",
   "metadata": {},
   "source": [
    "Проверим изменилось ли качество ответов"
   ]
  },
  {
   "cell_type": "markdown",
   "metadata": {},
   "source": [
    "Дерево решений"
   ]
  },
  {
   "cell_type": "code",
   "execution_count": 31,
   "metadata": {},
   "outputs": [],
   "source": [
    "model_DTC_up = DecisionTreeClassifier(random_state=12345)\n",
    "model_DTC_up.fit(features_up, target_up)\n",
    "DTC_prediction_up = model_DTC_up.predict(features_valid)"
   ]
  },
  {
   "cell_type": "code",
   "execution_count": 32,
   "metadata": {},
   "outputs": [
    {
     "name": "stdout",
     "output_type": "stream",
     "text": [
      "Полнота 0.4473684210526316\n",
      "Точность 0.4722222222222222\n",
      "F1-мера 0.4594594594594595\n",
      "AUC-ROC 0.6576285847361767\n"
     ]
    }
   ],
   "source": [
    "print(\"Полнота\" , recall_score(target_valid, DTC_prediction_up))\n",
    "print(\"Точность\", precision_score(target_valid, DTC_prediction_up))\n",
    "print(\"F1-мера\", f1_score(target_valid, DTC_prediction_up))\n",
    "print(\"AUC-ROC\", roc_auc_score(target_valid, DTC_prediction_up))"
   ]
  },
  {
   "cell_type": "markdown",
   "metadata": {},
   "source": [
    "Случайный лес"
   ]
  },
  {
   "cell_type": "code",
   "execution_count": 33,
   "metadata": {},
   "outputs": [],
   "source": [
    "model_RFC_up = RandomForestClassifier(random_state=12345, n_estimators = 100)\n",
    "model_RFC_up.fit(features_up, target_up)\n",
    "RFC_prediction_up = model_RFC_up.predict(features_valid)"
   ]
  },
  {
   "cell_type": "code",
   "execution_count": 34,
   "metadata": {},
   "outputs": [
    {
     "name": "stdout",
     "output_type": "stream",
     "text": [
      "Полнота 0.5358851674641149\n",
      "Точность 0.6746987951807228\n",
      "F1-мера 0.5973333333333333\n",
      "AUC-ROC 0.7338085761467225\n"
     ]
    }
   ],
   "source": [
    "print(\"Полнота\" , recall_score(target_valid, RFC_prediction_up))\n",
    "print(\"Точность\", precision_score(target_valid, RFC_prediction_up))\n",
    "print(\"F1-мера\", f1_score(target_valid, RFC_prediction_up))\n",
    "print(\"AUC-ROC\", roc_auc_score(target_valid, RFC_prediction_up))"
   ]
  },
  {
   "cell_type": "markdown",
   "metadata": {},
   "source": [
    "Логистическая регрессия"
   ]
  },
  {
   "cell_type": "code",
   "execution_count": 35,
   "metadata": {},
   "outputs": [],
   "source": [
    "model_LR_up = LogisticRegression(solver = 'liblinear')\n",
    "model_LR_up.fit(features_up, target_up)\n",
    "LR_prediction_up = model_LR_up.predict(features_valid)"
   ]
  },
  {
   "cell_type": "code",
   "execution_count": 36,
   "metadata": {},
   "outputs": [
    {
     "name": "stdout",
     "output_type": "stream",
     "text": [
      "Полнота 0.6722488038277512\n",
      "Точность 0.34143377885783716\n",
      "F1-мера 0.45286059629331177\n",
      "AUC-ROC 0.6648222527356202\n"
     ]
    }
   ],
   "source": [
    "print(\"Полнота\" , recall_score(target_valid, LR_prediction_up))\n",
    "print(\"Точность\", precision_score(target_valid, LR_prediction_up))\n",
    "print(\"F1-мера\", f1_score(target_valid, LR_prediction_up))\n",
    "print(\"AUC-ROC\", roc_auc_score(target_valid, LR_prediction_up))"
   ]
  },
  {
   "cell_type": "markdown",
   "metadata": {},
   "source": [
    "Попробуем сделать объекты частого класса не такими частыми, проведем уменьшение выборки"
   ]
  },
  {
   "cell_type": "code",
   "execution_count": 37,
   "metadata": {},
   "outputs": [],
   "source": [
    "def down(features, target, fraction):\n",
    "    features_zeros = features[target == 0]\n",
    "    features_ones = features[target == 1]\n",
    "    target_zeros = target[target == 0]\n",
    "    target_ones = target[target == 1]\n",
    "\n",
    "    features_down = pd.concat([features_zeros.sample(frac=fraction, random_state=12345)] + [features_ones])\n",
    "    target_down = pd.concat([target_zeros.sample(frac=fraction, random_state=12345)] + [target_ones])\n",
    "    \n",
    "    features_down, target_down = shuffle(features_down, target_down, random_state=12345)\n",
    "    \n",
    "    return features_down, target_down\n",
    "\n",
    "features_down, target_down = down(features_train, target_train, 0.25)"
   ]
  },
  {
   "cell_type": "markdown",
   "metadata": {},
   "source": [
    "Дерево решений"
   ]
  },
  {
   "cell_type": "code",
   "execution_count": 38,
   "metadata": {},
   "outputs": [],
   "source": [
    "model_DTC_down = DecisionTreeClassifier(random_state=12345)\n",
    "model_DTC_down.fit(features_down, target_down) \n",
    "DTC_predicted_valid = model_DTC_down.predict(features_valid)"
   ]
  },
  {
   "cell_type": "code",
   "execution_count": 39,
   "metadata": {},
   "outputs": [
    {
     "name": "stdout",
     "output_type": "stream",
     "text": [
      "Полнота 0.6961722488038278\n",
      "Точность 0.37890625\n",
      "F1-мера 0.49072512647554806\n",
      "AUC-ROC 0.6973275909000175\n"
     ]
    }
   ],
   "source": [
    "print(\"Полнота\" , recall_score(target_valid, DTC_predicted_valid))\n",
    "print(\"Точность\", precision_score(target_valid, DTC_predicted_valid))\n",
    "print(\"F1-мера\", f1_score(target_valid, DTC_predicted_valid))\n",
    "print(\"AUC-ROC\", roc_auc_score(target_valid, model_DTC_down.predict_proba(features_valid)[:, 1]))"
   ]
  },
  {
   "cell_type": "markdown",
   "metadata": {},
   "source": [
    "Случайный лес"
   ]
  },
  {
   "cell_type": "code",
   "execution_count": 40,
   "metadata": {},
   "outputs": [],
   "source": [
    "model_RFC_down = RandomForestClassifier(random_state=12345)\n",
    "model_RFC_down.fit(features_down, target_down) \n",
    "predicted_valid = model_RFC_down.predict(features_valid)"
   ]
  },
  {
   "cell_type": "code",
   "execution_count": 41,
   "metadata": {},
   "outputs": [
    {
     "name": "stdout",
     "output_type": "stream",
     "text": [
      "Полнота 0.7344497607655502\n",
      "Точность 0.4865293185419968\n",
      "F1-мера 0.5853193517635844\n",
      "AUC-ROC 0.8445119738203111\n"
     ]
    }
   ],
   "source": [
    "print(\"Полнота\" , recall_score(target_valid, predicted_valid))\n",
    "print(\"Точность\", precision_score(target_valid, predicted_valid))\n",
    "print(\"F1-мера\", f1_score(target_valid, predicted_valid))\n",
    "print(\"AUC-ROC\", roc_auc_score(target_valid, model_RFC_down.predict_proba(features_valid)[:, 1]))"
   ]
  },
  {
   "cell_type": "markdown",
   "metadata": {},
   "source": [
    "Увеличение выборки справилось лучше."
   ]
  },
  {
   "cell_type": "markdown",
   "metadata": {},
   "source": [
    "<b> Вывод </b><br>\n",
    "Показатели всех моделей улучшились. \n",
    "Изначально в данных был дисбаланс -  отрицательны ответов около 80% , положитительных около 20%, из-за чего обученная на этих данных модель не проходила проверку на адекватность. Все модели не первоначальных данных характеризовались высокой степенью ошибок и низким качеством взвешенной величины (F1) — модели показывали низкие результаты точности и полноты.\n",
    "\n",
    "С помощью upsampling, мы увеличили количество положительных ответов в 4 раза, тем самым получив баланс классов примерно равный - 0.49895702962035876.\n",
    "\n",
    "На новых данных все модели показали результат выше, чем на несбалансированной выборке. Лучшие показатели у модели случайный лес:<br>\n",
    "Полнота 0.5358851674641149<br>\n",
    "Точность 0.6746987951807228<br>\n",
    "F1-мера 0.5973333333333333<br>\n",
    "AUC-ROC 0.7338085761467225<br>\n",
    "\n",
    "Также мы рассмотрели объекты частого класса не такими частыми, провели уменьшение выборки.<br>\n",
    "Увеличение выборки справилось лучше."
   ]
  },
  {
   "cell_type": "markdown",
   "metadata": {},
   "source": [
    "## Тестирование модели"
   ]
  },
  {
   "cell_type": "markdown",
   "metadata": {},
   "source": [
    "Обучим финальную модель. Так как лучшие показатели у модели Случайные лес, то и будем работать с этой моделью."
   ]
  },
  {
   "cell_type": "code",
   "execution_count": 42,
   "metadata": {},
   "outputs": [
    {
     "data": {
      "text/plain": [
       "RandomForestClassifier(max_depth=6, min_samples_leaf=2, random_state=12345)"
      ]
     },
     "execution_count": 42,
     "metadata": {},
     "output_type": "execute_result"
    }
   ],
   "source": [
    "model = RandomForestClassifier(n_estimators=100, \n",
    "                               max_depth=6, \n",
    "                               random_state=12345, \n",
    "                               min_samples_split=2, \n",
    "                               min_samples_leaf=2\n",
    "                                  )\n",
    "model.fit(features_up, target_up)"
   ]
  },
  {
   "cell_type": "code",
   "execution_count": 43,
   "metadata": {},
   "outputs": [],
   "source": [
    "model_RFC_final = model.predict(features_test)\n",
    "model_RFC_final_v = model.predict_proba(features_test)[:, 1]"
   ]
  },
  {
   "cell_type": "code",
   "execution_count": 44,
   "metadata": {
    "scrolled": true
   },
   "outputs": [
    {
     "name": "stdout",
     "output_type": "stream",
     "text": [
      "Полнота 0.7186761229314421\n",
      "Точность 0.5049833887043189\n",
      "F1-мера 0.5931707317073172\n",
      "AUC-ROC 0.8495422526237835\n"
     ]
    }
   ],
   "source": [
    "print(\"Полнота\" , recall_score(target_test, model_RFC_final))\n",
    "print(\"Точность\", precision_score(target_test, model_RFC_final))\n",
    "print(\"F1-мера\", f1_score(target_test, model_RFC_final))\n",
    "print(\"AUC-ROC\", roc_auc_score(target_test, model_RFC_final_v))"
   ]
  },
  {
   "cell_type": "markdown",
   "metadata": {},
   "source": [
    "Создадим константную модель, которая любому экземпляру, каждой строке прогнозирует класс «0», чтобы внутри Series передать список из нулей длиной в target_test"
   ]
  },
  {
   "cell_type": "code",
   "execution_count": 45,
   "metadata": {},
   "outputs": [
    {
     "data": {
      "text/plain": [
       "0    2000\n",
       "dtype: int64"
      ]
     },
     "execution_count": 45,
     "metadata": {},
     "output_type": "execute_result"
    }
   ],
   "source": [
    "target_predict_c = pd.Series([0]*len(target_test))\n",
    "target_predict_c.value_counts()"
   ]
  },
  {
   "cell_type": "markdown",
   "metadata": {},
   "source": [
    "Сравним показатель точности у финальной модели и константной модели."
   ]
  },
  {
   "cell_type": "code",
   "execution_count": 46,
   "metadata": {},
   "outputs": [
    {
     "name": "stdout",
     "output_type": "stream",
     "text": [
      "accuracy_score константой модели: 0.791\n",
      "accuracy_score финальной модели: 0.7915\n"
     ]
    }
   ],
   "source": [
    "print('accuracy_score константой модели:', accuracy_score(target_valid, target_predict_c))\n",
    "print('accuracy_score финальной модели:', accuracy_score(target_test, model_RFC_final))"
   ]
  },
  {
   "cell_type": "markdown",
   "metadata": {},
   "source": [
    "Так же сравним AUC-ROC у финальной модели и константной модели."
   ]
  },
  {
   "cell_type": "code",
   "execution_count": null,
   "metadata": {},
   "outputs": [],
   "source": [
    "print('AUC-ROC константой модели:', roc_auc_score(target_valid, target_predict_c))\n",
    "print('AUC-ROC финальной модели:', roc_auc_score(target_test, model_RFC_final_v))"
   ]
  },
  {
   "cell_type": "markdown",
   "metadata": {},
   "source": [
    "<b>Выводы</b><br>\n",
    "\n",
    "В первоначальные данных наблюдался дисбаланс классов. В нашей выборке отрицательных ответов около 80% , положитительных около 20%. Случайный лес выдавал заметно больше качественных предсказаний, но также сильно склонялся к ложно позитивным предсказаниям. Точность и качество также было низким. Матрица показала, что дерево решений склонно выдавать позитивные предсказания, очень высокое количество ложных позитивных предсказания. Логистическая регрессия выдавала большое количество негативных предсказаний — высокая точность модели объясняется высокой долей негативных ответов в валидационной выборке.<br>\n",
    "\n",
    "Разобрали вариант борьбы с дисбалансом с помощью upsampling, мы увеличили количество положительных ответов в 4 раза, тем самым получив баланс классов примерно равный - 0.49895702962035876.<br>\n",
    "\n",
    "На новых данных все модели показали результат выше, чем на несбалансированной выборке. Лучшие показатели у модели случайный лес:<br>\n",
    "Полнота 0.5358851674641149<br>\n",
    "Точность 0.6746987951807228<br>\n",
    "F1-мера 0.5973333333333333<br>\n",
    "AUC-ROC 0.7338085761467225<br>\n",
    "\n",
    "На новых данных все модели показали результат выше, чем на несбалансированной выборке. Лучшие показатели были у модели случайного леса:<br>\n",
    "\n",
    "Полнота 0.5358851674641149<br>\n",
    "Точность 0.6746987951807228<br>\n",
    "F1-мера 0.5973333333333333<br>\n",
    "AUC-ROC 0.7338085761467225<br>\n",
    "\n",
    "Финальная модель прошла проверку на адекватность в сравнении с константной моделью:<br>\n",
    "accuracy_score константой модели: 0.791<br>\n",
    "accuracy_score финальной модели: 0.7915<br>\n",
    "\n",
    "AUC-ROC константой модели: 0.5<br>\n",
    "AUC-ROC финальной модели: 0.7648548655240598<br>\n"
   ]
  },
  {
   "cell_type": "markdown",
   "metadata": {},
   "source": [
    "## Чек-лист готовности проекта"
   ]
  },
  {
   "cell_type": "markdown",
   "metadata": {},
   "source": [
    "Поставьте 'x' в выполненных пунктах. Далее нажмите Shift+Enter."
   ]
  },
  {
   "cell_type": "markdown",
   "metadata": {},
   "source": [
    "- [x]  Jupyter Notebook открыт\n",
    "- [x]  Весь код выполняется без ошибок\n",
    "- [x]  Ячейки с кодом расположены в порядке исполнения\n",
    "- [x]  Выполнен шаг 1: данные подготовлены\n",
    "- [x]  Выполнен шаг 2: задача исследована\n",
    "    - [x]  Исследован баланс классов\n",
    "    - [x]  Изучены модели без учёта дисбаланса\n",
    "    - [x]  Написаны выводы по результатам исследования\n",
    "- [x]  Выполнен шаг 3: учтён дисбаланс\n",
    "    - [x]  Применено несколько способов борьбы с дисбалансом\n",
    "    - [x]  Написаны выводы по результатам исследования\n",
    "- [x]  Выполнен шаг 4: проведено тестирование\n",
    "- [x]  Удалось достичь *F1*-меры не менее 0.59\n",
    "- [x]  Исследована метрика *AUC-ROC*"
   ]
  }
 ],
 "metadata": {
  "ExecuteTimeLog": [
   {
    "duration": 1497,
    "start_time": "2023-10-11T05:36:08.435Z"
   },
   {
    "duration": 4,
    "start_time": "2023-10-11T05:55:54.184Z"
   },
   {
    "duration": 106,
    "start_time": "2023-10-11T06:38:55.163Z"
   },
   {
    "duration": 54,
    "start_time": "2023-10-11T06:39:04.123Z"
   },
   {
    "duration": 1262,
    "start_time": "2023-10-11T08:32:58.233Z"
   },
   {
    "duration": 51,
    "start_time": "2023-10-11T08:32:59.497Z"
   },
   {
    "duration": 104,
    "start_time": "2023-10-11T08:32:59.550Z"
   },
   {
    "duration": 11,
    "start_time": "2023-10-11T08:33:14.500Z"
   },
   {
    "duration": 35,
    "start_time": "2023-10-11T08:34:13.971Z"
   },
   {
    "duration": 7,
    "start_time": "2023-10-11T08:44:25.457Z"
   },
   {
    "duration": 11,
    "start_time": "2023-10-11T08:44:33.726Z"
   },
   {
    "duration": 3,
    "start_time": "2023-10-11T08:48:38.471Z"
   },
   {
    "duration": 11,
    "start_time": "2023-10-11T08:48:48.809Z"
   },
   {
    "duration": 46,
    "start_time": "2023-10-11T08:48:56.446Z"
   },
   {
    "duration": 9,
    "start_time": "2023-10-11T08:48:57.727Z"
   },
   {
    "duration": 45,
    "start_time": "2023-10-12T09:46:42.924Z"
   },
   {
    "duration": 1715,
    "start_time": "2023-10-12T09:46:53.184Z"
   },
   {
    "duration": 99,
    "start_time": "2023-10-12T09:46:54.901Z"
   },
   {
    "duration": 12,
    "start_time": "2023-10-12T09:46:55.002Z"
   },
   {
    "duration": 25,
    "start_time": "2023-10-12T09:46:55.016Z"
   },
   {
    "duration": 45,
    "start_time": "2023-10-12T09:46:55.043Z"
   },
   {
    "duration": 80,
    "start_time": "2023-10-12T09:46:55.090Z"
   },
   {
    "duration": 10,
    "start_time": "2023-10-12T09:46:55.172Z"
   },
   {
    "duration": 44,
    "start_time": "2023-10-12T09:46:55.184Z"
   },
   {
    "duration": 20,
    "start_time": "2023-10-12T09:48:22.216Z"
   },
   {
    "duration": 103,
    "start_time": "2023-10-12T09:53:10.039Z"
   },
   {
    "duration": 8,
    "start_time": "2023-10-12T09:53:18.208Z"
   },
   {
    "duration": 4,
    "start_time": "2023-10-12T09:53:47.767Z"
   },
   {
    "duration": 9,
    "start_time": "2023-10-12T09:54:40.189Z"
   },
   {
    "duration": 12,
    "start_time": "2023-10-12T09:54:48.526Z"
   },
   {
    "duration": 9,
    "start_time": "2023-10-12T09:56:01.716Z"
   },
   {
    "duration": 1477,
    "start_time": "2023-10-12T09:56:14.518Z"
   },
   {
    "duration": 55,
    "start_time": "2023-10-12T09:56:15.997Z"
   },
   {
    "duration": 13,
    "start_time": "2023-10-12T09:56:16.053Z"
   },
   {
    "duration": 40,
    "start_time": "2023-10-12T09:56:16.068Z"
   },
   {
    "duration": 28,
    "start_time": "2023-10-12T09:56:16.110Z"
   },
   {
    "duration": 51,
    "start_time": "2023-10-12T09:56:16.139Z"
   },
   {
    "duration": 14,
    "start_time": "2023-10-12T09:56:16.192Z"
   },
   {
    "duration": 41,
    "start_time": "2023-10-12T09:56:16.207Z"
   },
   {
    "duration": 121,
    "start_time": "2023-10-12T09:56:16.250Z"
   },
   {
    "duration": 0,
    "start_time": "2023-10-12T09:56:16.373Z"
   },
   {
    "duration": 8,
    "start_time": "2023-10-12T09:57:31.235Z"
   },
   {
    "duration": 20,
    "start_time": "2023-10-12T09:57:33.131Z"
   },
   {
    "duration": 1363,
    "start_time": "2023-10-12T09:57:41.259Z"
   },
   {
    "duration": 57,
    "start_time": "2023-10-12T09:57:42.624Z"
   },
   {
    "duration": 13,
    "start_time": "2023-10-12T09:57:42.682Z"
   },
   {
    "duration": 4,
    "start_time": "2023-10-12T09:57:42.698Z"
   },
   {
    "duration": 19,
    "start_time": "2023-10-12T09:57:42.704Z"
   },
   {
    "duration": 53,
    "start_time": "2023-10-12T09:57:42.725Z"
   },
   {
    "duration": 12,
    "start_time": "2023-10-12T09:57:42.780Z"
   },
   {
    "duration": 45,
    "start_time": "2023-10-12T09:57:42.794Z"
   },
   {
    "duration": 154,
    "start_time": "2023-10-12T09:57:42.841Z"
   },
   {
    "duration": 0,
    "start_time": "2023-10-12T09:57:42.996Z"
   },
   {
    "duration": 9,
    "start_time": "2023-10-12T10:00:59.413Z"
   },
   {
    "duration": 5,
    "start_time": "2023-10-12T10:01:33.901Z"
   },
   {
    "duration": 10,
    "start_time": "2023-10-12T10:01:52.284Z"
   },
   {
    "duration": 9,
    "start_time": "2023-10-12T10:01:59.900Z"
   },
   {
    "duration": 4,
    "start_time": "2023-10-12T10:02:07.868Z"
   },
   {
    "duration": 5,
    "start_time": "2023-10-12T10:02:50.860Z"
   },
   {
    "duration": 5,
    "start_time": "2023-10-12T10:03:05.771Z"
   },
   {
    "duration": 25,
    "start_time": "2023-10-12T10:04:32.234Z"
   },
   {
    "duration": 6,
    "start_time": "2023-10-12T10:25:55.002Z"
   },
   {
    "duration": 12,
    "start_time": "2023-10-12T10:29:50.468Z"
   },
   {
    "duration": 24,
    "start_time": "2023-10-12T10:38:46.059Z"
   },
   {
    "duration": 24,
    "start_time": "2023-10-12T10:40:34.348Z"
   },
   {
    "duration": 27,
    "start_time": "2023-10-12T10:41:10.512Z"
   },
   {
    "duration": 23,
    "start_time": "2023-10-12T10:41:29.528Z"
   },
   {
    "duration": 729,
    "start_time": "2023-10-12T10:44:08.789Z"
   },
   {
    "duration": 45,
    "start_time": "2023-10-12T10:46:25.121Z"
   },
   {
    "duration": 74,
    "start_time": "2023-10-12T10:49:25.174Z"
   },
   {
    "duration": 33,
    "start_time": "2023-10-12T10:49:42.734Z"
   },
   {
    "duration": 43,
    "start_time": "2023-10-12T10:51:49.372Z"
   },
   {
    "duration": 697,
    "start_time": "2023-10-12T11:00:59.740Z"
   },
   {
    "duration": 692,
    "start_time": "2023-10-12T11:01:08.492Z"
   },
   {
    "duration": 10,
    "start_time": "2023-10-12T11:01:13.484Z"
   },
   {
    "duration": 723,
    "start_time": "2023-10-12T11:03:21.882Z"
   },
   {
    "duration": 767,
    "start_time": "2023-10-12T11:03:34.007Z"
   },
   {
    "duration": 10,
    "start_time": "2023-10-12T11:03:48.287Z"
   },
   {
    "duration": 78,
    "start_time": "2023-10-12T11:06:16.453Z"
   },
   {
    "duration": 4,
    "start_time": "2023-10-12T11:07:43.027Z"
   },
   {
    "duration": 54,
    "start_time": "2023-10-12T11:07:48.402Z"
   },
   {
    "duration": 38,
    "start_time": "2023-10-12T11:11:39.399Z"
   },
   {
    "duration": 9,
    "start_time": "2023-10-12T11:12:08.928Z"
   },
   {
    "duration": 9,
    "start_time": "2023-10-12T11:13:33.671Z"
   },
   {
    "duration": 32,
    "start_time": "2023-10-12T11:14:26.522Z"
   },
   {
    "duration": 45,
    "start_time": "2023-10-12T11:14:31.318Z"
   },
   {
    "duration": 13,
    "start_time": "2023-10-12T11:14:47.052Z"
   },
   {
    "duration": 11,
    "start_time": "2023-10-12T11:16:08.478Z"
   },
   {
    "duration": 170,
    "start_time": "2023-10-12T11:17:34.948Z"
   },
   {
    "duration": 106,
    "start_time": "2023-10-12T11:18:28.873Z"
   },
   {
    "duration": 11,
    "start_time": "2023-10-12T11:23:39.267Z"
   },
   {
    "duration": 1412,
    "start_time": "2023-10-12T11:47:19.355Z"
   },
   {
    "duration": 55,
    "start_time": "2023-10-12T11:47:20.769Z"
   },
   {
    "duration": 144,
    "start_time": "2023-10-12T11:47:20.825Z"
   },
   {
    "duration": 29,
    "start_time": "2023-10-12T11:47:20.972Z"
   },
   {
    "duration": 37,
    "start_time": "2023-10-12T11:47:21.003Z"
   },
   {
    "duration": 86,
    "start_time": "2023-10-12T11:47:21.042Z"
   },
   {
    "duration": 24,
    "start_time": "2023-10-12T11:47:21.129Z"
   },
   {
    "duration": 58,
    "start_time": "2023-10-12T11:47:21.155Z"
   },
   {
    "duration": 50,
    "start_time": "2023-10-12T11:47:21.214Z"
   },
   {
    "duration": 68,
    "start_time": "2023-10-12T11:47:21.266Z"
   },
   {
    "duration": 61,
    "start_time": "2023-10-12T11:47:21.335Z"
   },
   {
    "duration": 88,
    "start_time": "2023-10-12T11:47:21.397Z"
   },
   {
    "duration": 81,
    "start_time": "2023-10-12T11:47:21.487Z"
   },
   {
    "duration": 734,
    "start_time": "2023-10-12T11:47:21.569Z"
   },
   {
    "duration": 42,
    "start_time": "2023-10-12T11:47:22.305Z"
   },
   {
    "duration": 882,
    "start_time": "2023-10-12T11:47:22.349Z"
   },
   {
    "duration": 14,
    "start_time": "2023-10-12T11:47:23.233Z"
   },
   {
    "duration": 82,
    "start_time": "2023-10-12T11:47:23.248Z"
   },
   {
    "duration": 52,
    "start_time": "2023-10-12T11:47:23.331Z"
   },
   {
    "duration": 13,
    "start_time": "2023-10-12T11:47:23.385Z"
   },
   {
    "duration": 52,
    "start_time": "2023-10-12T11:47:23.400Z"
   },
   {
    "duration": 94,
    "start_time": "2023-10-12T11:47:23.454Z"
   },
   {
    "duration": 99,
    "start_time": "2023-10-12T11:47:23.551Z"
   },
   {
    "duration": 59,
    "start_time": "2023-10-12T11:47:23.652Z"
   },
   {
    "duration": 4,
    "start_time": "2023-10-12T11:55:42.325Z"
   },
   {
    "duration": 106,
    "start_time": "2023-10-12T11:56:28.083Z"
   },
   {
    "duration": 18,
    "start_time": "2023-10-12T11:57:00.206Z"
   },
   {
    "duration": 4,
    "start_time": "2023-10-12T11:57:18.522Z"
   },
   {
    "duration": 13,
    "start_time": "2023-10-12T11:57:19.362Z"
   },
   {
    "duration": 3,
    "start_time": "2023-10-12T11:57:32.514Z"
   },
   {
    "duration": 5,
    "start_time": "2023-10-12T11:58:44.433Z"
   },
   {
    "duration": 840,
    "start_time": "2023-10-12T12:03:04.406Z"
   },
   {
    "duration": 1043,
    "start_time": "2023-10-12T12:06:03.609Z"
   },
   {
    "duration": 995,
    "start_time": "2023-10-12T12:06:15.656Z"
   },
   {
    "duration": 764,
    "start_time": "2023-10-12T12:06:33.489Z"
   },
   {
    "duration": 993,
    "start_time": "2023-10-12T12:06:35.408Z"
   },
   {
    "duration": 45,
    "start_time": "2023-10-12T12:09:15.917Z"
   },
   {
    "duration": 48,
    "start_time": "2023-10-12T12:10:15.889Z"
   },
   {
    "duration": 13,
    "start_time": "2023-10-12T12:10:17.041Z"
   },
   {
    "duration": 1145,
    "start_time": "2023-10-12T12:32:54.573Z"
   },
   {
    "duration": 16,
    "start_time": "2023-10-12T12:33:08.946Z"
   },
   {
    "duration": 44,
    "start_time": "2023-10-12T12:34:44.288Z"
   },
   {
    "duration": 127,
    "start_time": "2023-10-12T12:34:58.624Z"
   },
   {
    "duration": 16,
    "start_time": "2023-10-12T12:35:19.338Z"
   },
   {
    "duration": 1500,
    "start_time": "2023-10-12T12:44:45.272Z"
   },
   {
    "duration": 55,
    "start_time": "2023-10-12T12:44:46.774Z"
   },
   {
    "duration": 12,
    "start_time": "2023-10-12T12:44:46.830Z"
   },
   {
    "duration": 31,
    "start_time": "2023-10-12T12:44:46.844Z"
   },
   {
    "duration": 28,
    "start_time": "2023-10-12T12:44:46.877Z"
   },
   {
    "duration": 40,
    "start_time": "2023-10-12T12:44:46.906Z"
   },
   {
    "duration": 10,
    "start_time": "2023-10-12T12:44:46.948Z"
   },
   {
    "duration": 34,
    "start_time": "2023-10-12T12:44:46.959Z"
   },
   {
    "duration": 26,
    "start_time": "2023-10-12T12:44:46.995Z"
   },
   {
    "duration": 17,
    "start_time": "2023-10-12T12:44:47.023Z"
   },
   {
    "duration": 30,
    "start_time": "2023-10-12T12:44:47.042Z"
   },
   {
    "duration": 11,
    "start_time": "2023-10-12T12:44:47.074Z"
   },
   {
    "duration": 43,
    "start_time": "2023-10-12T12:44:47.087Z"
   },
   {
    "duration": 746,
    "start_time": "2023-10-12T12:44:47.131Z"
   },
   {
    "duration": 67,
    "start_time": "2023-10-12T12:44:47.879Z"
   },
   {
    "duration": 782,
    "start_time": "2023-10-12T12:44:47.948Z"
   },
   {
    "duration": 15,
    "start_time": "2023-10-12T12:44:48.731Z"
   },
   {
    "duration": 55,
    "start_time": "2023-10-12T12:44:48.748Z"
   },
   {
    "duration": 54,
    "start_time": "2023-10-12T12:44:48.804Z"
   },
   {
    "duration": 9,
    "start_time": "2023-10-12T12:44:48.859Z"
   },
   {
    "duration": 17,
    "start_time": "2023-10-12T12:44:48.869Z"
   },
   {
    "duration": 157,
    "start_time": "2023-10-12T12:44:48.888Z"
   },
   {
    "duration": 12,
    "start_time": "2023-10-12T12:44:49.048Z"
   },
   {
    "duration": 82,
    "start_time": "2023-10-12T12:44:49.063Z"
   },
   {
    "duration": 7,
    "start_time": "2023-10-12T12:44:49.147Z"
   },
   {
    "duration": 100,
    "start_time": "2023-10-12T12:44:49.155Z"
   },
   {
    "duration": 4,
    "start_time": "2023-10-12T12:44:49.256Z"
   },
   {
    "duration": 25,
    "start_time": "2023-10-12T12:44:49.263Z"
   },
   {
    "duration": 757,
    "start_time": "2023-10-12T12:44:49.290Z"
   },
   {
    "duration": 1155,
    "start_time": "2023-10-12T12:44:50.052Z"
   },
   {
    "duration": 167,
    "start_time": "2023-10-12T12:44:51.244Z"
   },
   {
    "duration": 0,
    "start_time": "2023-10-12T12:44:51.413Z"
   },
   {
    "duration": 0,
    "start_time": "2023-10-12T12:44:51.414Z"
   },
   {
    "duration": 0,
    "start_time": "2023-10-12T12:44:51.415Z"
   },
   {
    "duration": 0,
    "start_time": "2023-10-12T12:44:51.416Z"
   },
   {
    "duration": 0,
    "start_time": "2023-10-12T12:44:51.417Z"
   },
   {
    "duration": 0,
    "start_time": "2023-10-12T12:44:51.418Z"
   },
   {
    "duration": 1569,
    "start_time": "2023-10-12T12:45:07.124Z"
   },
   {
    "duration": 56,
    "start_time": "2023-10-12T12:45:08.695Z"
   },
   {
    "duration": 12,
    "start_time": "2023-10-12T12:45:08.753Z"
   },
   {
    "duration": 25,
    "start_time": "2023-10-12T12:45:08.767Z"
   },
   {
    "duration": 47,
    "start_time": "2023-10-12T12:45:08.794Z"
   },
   {
    "duration": 61,
    "start_time": "2023-10-12T12:45:08.843Z"
   },
   {
    "duration": 16,
    "start_time": "2023-10-12T12:45:08.906Z"
   },
   {
    "duration": 41,
    "start_time": "2023-10-12T12:45:08.924Z"
   },
   {
    "duration": 38,
    "start_time": "2023-10-12T12:45:08.967Z"
   },
   {
    "duration": 30,
    "start_time": "2023-10-12T12:45:09.008Z"
   },
   {
    "duration": 36,
    "start_time": "2023-10-12T12:45:09.041Z"
   },
   {
    "duration": 20,
    "start_time": "2023-10-12T12:45:09.079Z"
   },
   {
    "duration": 46,
    "start_time": "2023-10-12T12:45:09.100Z"
   },
   {
    "duration": 768,
    "start_time": "2023-10-12T12:45:09.148Z"
   },
   {
    "duration": 45,
    "start_time": "2023-10-12T12:45:09.917Z"
   },
   {
    "duration": 786,
    "start_time": "2023-10-12T12:45:10.046Z"
   },
   {
    "duration": 14,
    "start_time": "2023-10-12T12:45:10.833Z"
   },
   {
    "duration": 96,
    "start_time": "2023-10-12T12:45:10.849Z"
   },
   {
    "duration": 45,
    "start_time": "2023-10-12T12:45:10.947Z"
   },
   {
    "duration": 11,
    "start_time": "2023-10-12T12:45:10.994Z"
   },
   {
    "duration": 8,
    "start_time": "2023-10-12T12:45:11.007Z"
   },
   {
    "duration": 63,
    "start_time": "2023-10-12T12:45:11.016Z"
   },
   {
    "duration": 69,
    "start_time": "2023-10-12T12:45:11.081Z"
   },
   {
    "duration": 98,
    "start_time": "2023-10-12T12:45:11.152Z"
   },
   {
    "duration": 99,
    "start_time": "2023-10-12T12:45:11.252Z"
   },
   {
    "duration": 139,
    "start_time": "2023-10-12T12:45:11.353Z"
   },
   {
    "duration": 212,
    "start_time": "2023-10-12T12:45:11.494Z"
   },
   {
    "duration": 28,
    "start_time": "2023-10-12T12:45:11.710Z"
   },
   {
    "duration": 731,
    "start_time": "2023-10-12T12:45:11.740Z"
   },
   {
    "duration": 1272,
    "start_time": "2023-10-12T12:45:12.474Z"
   },
   {
    "duration": 104,
    "start_time": "2023-10-12T12:45:13.748Z"
   },
   {
    "duration": 11,
    "start_time": "2023-10-12T12:45:13.854Z"
   },
   {
    "duration": 1035,
    "start_time": "2023-10-12T12:45:13.866Z"
   },
   {
    "duration": 11,
    "start_time": "2023-10-12T12:45:14.902Z"
   },
   {
    "duration": 131,
    "start_time": "2023-10-12T12:45:14.914Z"
   },
   {
    "duration": 101,
    "start_time": "2023-10-12T12:45:15.051Z"
   },
   {
    "duration": 1466,
    "start_time": "2023-10-13T07:34:21.301Z"
   },
   {
    "duration": 241,
    "start_time": "2023-10-13T07:34:22.770Z"
   },
   {
    "duration": 13,
    "start_time": "2023-10-13T07:34:23.013Z"
   },
   {
    "duration": 31,
    "start_time": "2023-10-13T07:34:23.028Z"
   },
   {
    "duration": 35,
    "start_time": "2023-10-13T07:34:23.061Z"
   },
   {
    "duration": 95,
    "start_time": "2023-10-13T07:34:23.098Z"
   },
   {
    "duration": 10,
    "start_time": "2023-10-13T07:34:23.195Z"
   },
   {
    "duration": 20,
    "start_time": "2023-10-13T07:34:23.207Z"
   },
   {
    "duration": 7,
    "start_time": "2023-10-13T07:34:23.229Z"
   },
   {
    "duration": 6,
    "start_time": "2023-10-13T07:34:23.239Z"
   },
   {
    "duration": 25,
    "start_time": "2023-10-13T07:34:23.246Z"
   },
   {
    "duration": 13,
    "start_time": "2023-10-13T07:34:23.272Z"
   },
   {
    "duration": 28,
    "start_time": "2023-10-13T07:34:23.286Z"
   },
   {
    "duration": 758,
    "start_time": "2023-10-13T07:34:23.315Z"
   },
   {
    "duration": 82,
    "start_time": "2023-10-13T07:34:24.075Z"
   },
   {
    "duration": 732,
    "start_time": "2023-10-13T07:34:24.244Z"
   },
   {
    "duration": 7,
    "start_time": "2023-10-13T07:34:24.978Z"
   },
   {
    "duration": 71,
    "start_time": "2023-10-13T07:34:24.987Z"
   },
   {
    "duration": 34,
    "start_time": "2023-10-13T07:34:25.059Z"
   },
   {
    "duration": 8,
    "start_time": "2023-10-13T07:34:25.095Z"
   },
   {
    "duration": 32,
    "start_time": "2023-10-13T07:34:25.104Z"
   },
   {
    "duration": 106,
    "start_time": "2023-10-13T07:34:25.138Z"
   },
   {
    "duration": 101,
    "start_time": "2023-10-13T07:34:25.247Z"
   },
   {
    "duration": 20,
    "start_time": "2023-10-13T07:34:25.349Z"
   },
   {
    "duration": 79,
    "start_time": "2023-10-13T07:34:25.372Z"
   },
   {
    "duration": 104,
    "start_time": "2023-10-13T07:34:25.453Z"
   },
   {
    "duration": 15,
    "start_time": "2023-10-13T07:34:25.559Z"
   },
   {
    "duration": 13,
    "start_time": "2023-10-13T07:34:25.576Z"
   },
   {
    "duration": 702,
    "start_time": "2023-10-13T07:34:25.590Z"
   },
   {
    "duration": 1056,
    "start_time": "2023-10-13T07:34:26.343Z"
   },
   {
    "duration": 124,
    "start_time": "2023-10-13T07:34:27.445Z"
   },
   {
    "duration": 11,
    "start_time": "2023-10-13T07:34:27.571Z"
   },
   {
    "duration": 906,
    "start_time": "2023-10-13T07:34:27.584Z"
   },
   {
    "duration": 11,
    "start_time": "2023-10-13T07:34:28.492Z"
   },
   {
    "duration": 50,
    "start_time": "2023-10-13T07:34:28.505Z"
   },
   {
    "duration": 190,
    "start_time": "2023-10-13T07:34:28.557Z"
   },
   {
    "duration": 519,
    "start_time": "2023-10-13T07:35:35.579Z"
   },
   {
    "duration": 34,
    "start_time": "2023-10-13T07:36:15.303Z"
   },
   {
    "duration": 1319,
    "start_time": "2023-10-13T07:41:38.477Z"
   },
   {
    "duration": 64,
    "start_time": "2023-10-13T07:41:39.798Z"
   },
   {
    "duration": 11,
    "start_time": "2023-10-13T07:41:39.863Z"
   },
   {
    "duration": 41,
    "start_time": "2023-10-13T07:41:39.876Z"
   },
   {
    "duration": 48,
    "start_time": "2023-10-13T07:41:39.918Z"
   },
   {
    "duration": 65,
    "start_time": "2023-10-13T07:41:39.967Z"
   },
   {
    "duration": 25,
    "start_time": "2023-10-13T07:41:40.034Z"
   },
   {
    "duration": 65,
    "start_time": "2023-10-13T07:41:40.060Z"
   },
   {
    "duration": 44,
    "start_time": "2023-10-13T07:41:40.126Z"
   },
   {
    "duration": 34,
    "start_time": "2023-10-13T07:41:40.172Z"
   },
   {
    "duration": 50,
    "start_time": "2023-10-13T07:41:40.207Z"
   },
   {
    "duration": 27,
    "start_time": "2023-10-13T07:41:40.259Z"
   },
   {
    "duration": 74,
    "start_time": "2023-10-13T07:41:40.288Z"
   },
   {
    "duration": 760,
    "start_time": "2023-10-13T07:41:40.363Z"
   },
   {
    "duration": 45,
    "start_time": "2023-10-13T07:41:41.125Z"
   },
   {
    "duration": 856,
    "start_time": "2023-10-13T07:41:41.172Z"
   },
   {
    "duration": 16,
    "start_time": "2023-10-13T07:41:42.030Z"
   },
   {
    "duration": 72,
    "start_time": "2023-10-13T07:41:42.048Z"
   },
   {
    "duration": 59,
    "start_time": "2023-10-13T07:41:42.122Z"
   },
   {
    "duration": 31,
    "start_time": "2023-10-13T07:41:42.183Z"
   },
   {
    "duration": 56,
    "start_time": "2023-10-13T07:41:42.216Z"
   },
   {
    "duration": 72,
    "start_time": "2023-10-13T07:41:42.275Z"
   },
   {
    "duration": 99,
    "start_time": "2023-10-13T07:41:42.350Z"
   },
   {
    "duration": 98,
    "start_time": "2023-10-13T07:41:42.454Z"
   },
   {
    "duration": 221,
    "start_time": "2023-10-13T07:41:42.555Z"
   },
   {
    "duration": 39,
    "start_time": "2023-10-13T07:41:42.777Z"
   },
   {
    "duration": 34,
    "start_time": "2023-10-13T07:41:42.818Z"
   },
   {
    "duration": 38,
    "start_time": "2023-10-13T07:41:42.855Z"
   },
   {
    "duration": 797,
    "start_time": "2023-10-13T07:41:42.895Z"
   },
   {
    "duration": 1193,
    "start_time": "2023-10-13T07:41:43.694Z"
   },
   {
    "duration": 130,
    "start_time": "2023-10-13T07:41:44.950Z"
   },
   {
    "duration": 10,
    "start_time": "2023-10-13T07:41:45.082Z"
   },
   {
    "duration": 934,
    "start_time": "2023-10-13T07:41:45.094Z"
   },
   {
    "duration": 16,
    "start_time": "2023-10-13T07:41:46.030Z"
   },
   {
    "duration": 97,
    "start_time": "2023-10-13T07:41:46.048Z"
   },
   {
    "duration": 94,
    "start_time": "2023-10-13T07:41:46.154Z"
   },
   {
    "duration": 593,
    "start_time": "2023-10-13T07:41:46.251Z"
   },
   {
    "duration": 40,
    "start_time": "2023-10-13T07:44:51.027Z"
   },
   {
    "duration": 16,
    "start_time": "2023-10-13T07:46:24.031Z"
   },
   {
    "duration": 139,
    "start_time": "2023-10-13T07:50:47.558Z"
   },
   {
    "duration": 15,
    "start_time": "2023-10-13T07:50:48.115Z"
   },
   {
    "duration": 50,
    "start_time": "2023-10-13T07:50:57.213Z"
   },
   {
    "duration": 57,
    "start_time": "2023-10-13T07:51:19.572Z"
   },
   {
    "duration": 11,
    "start_time": "2023-10-13T07:51:21.060Z"
   },
   {
    "duration": 7,
    "start_time": "2023-10-13T08:04:51.480Z"
   },
   {
    "duration": 5,
    "start_time": "2023-10-13T08:21:08.220Z"
   },
   {
    "duration": 7,
    "start_time": "2023-10-13T08:23:01.579Z"
   },
   {
    "duration": 1500,
    "start_time": "2023-10-13T09:15:07.844Z"
   },
   {
    "duration": 68,
    "start_time": "2023-10-13T09:15:09.346Z"
   },
   {
    "duration": 14,
    "start_time": "2023-10-13T09:15:09.416Z"
   },
   {
    "duration": 22,
    "start_time": "2023-10-13T09:15:09.432Z"
   },
   {
    "duration": 41,
    "start_time": "2023-10-13T09:15:09.456Z"
   },
   {
    "duration": 42,
    "start_time": "2023-10-13T09:15:09.499Z"
   },
   {
    "duration": 11,
    "start_time": "2023-10-13T09:15:09.542Z"
   },
   {
    "duration": 27,
    "start_time": "2023-10-13T09:15:09.554Z"
   },
   {
    "duration": 16,
    "start_time": "2023-10-13T09:15:09.583Z"
   },
   {
    "duration": 9,
    "start_time": "2023-10-13T09:15:09.602Z"
   },
   {
    "duration": 28,
    "start_time": "2023-10-13T09:15:09.613Z"
   },
   {
    "duration": 20,
    "start_time": "2023-10-13T09:15:09.642Z"
   },
   {
    "duration": 29,
    "start_time": "2023-10-13T09:15:09.664Z"
   },
   {
    "duration": 783,
    "start_time": "2023-10-13T09:15:09.695Z"
   },
   {
    "duration": 165,
    "start_time": "2023-10-13T09:15:10.480Z"
   },
   {
    "duration": 772,
    "start_time": "2023-10-13T09:15:10.648Z"
   },
   {
    "duration": 10,
    "start_time": "2023-10-13T09:15:11.422Z"
   },
   {
    "duration": 63,
    "start_time": "2023-10-13T09:15:11.434Z"
   },
   {
    "duration": 48,
    "start_time": "2023-10-13T09:15:11.498Z"
   },
   {
    "duration": 9,
    "start_time": "2023-10-13T09:15:11.548Z"
   },
   {
    "duration": 35,
    "start_time": "2023-10-13T09:15:11.558Z"
   },
   {
    "duration": 51,
    "start_time": "2023-10-13T09:15:11.595Z"
   },
   {
    "duration": 101,
    "start_time": "2023-10-13T09:15:11.649Z"
   },
   {
    "duration": 94,
    "start_time": "2023-10-13T09:15:11.751Z"
   },
   {
    "duration": 104,
    "start_time": "2023-10-13T09:15:11.847Z"
   },
   {
    "duration": 32,
    "start_time": "2023-10-13T09:15:11.953Z"
   },
   {
    "duration": 3,
    "start_time": "2023-10-13T09:15:11.987Z"
   },
   {
    "duration": 6,
    "start_time": "2023-10-13T09:15:11.993Z"
   },
   {
    "duration": 747,
    "start_time": "2023-10-13T09:15:12.001Z"
   },
   {
    "duration": 1199,
    "start_time": "2023-10-13T09:15:12.750Z"
   },
   {
    "duration": 221,
    "start_time": "2023-10-13T09:15:13.952Z"
   },
   {
    "duration": 13,
    "start_time": "2023-10-13T09:15:14.176Z"
   },
   {
    "duration": 1055,
    "start_time": "2023-10-13T09:15:14.191Z"
   },
   {
    "duration": 11,
    "start_time": "2023-10-13T09:15:15.248Z"
   },
   {
    "duration": 83,
    "start_time": "2023-10-13T09:15:15.261Z"
   },
   {
    "duration": 105,
    "start_time": "2023-10-13T09:15:15.348Z"
   },
   {
    "duration": 578,
    "start_time": "2023-10-13T09:15:15.455Z"
   },
   {
    "duration": 63,
    "start_time": "2023-10-13T09:15:16.035Z"
   },
   {
    "duration": 10,
    "start_time": "2023-10-13T09:15:16.100Z"
   },
   {
    "duration": 5,
    "start_time": "2023-10-13T09:15:16.112Z"
   },
   {
    "duration": 21,
    "start_time": "2023-10-13T09:15:16.118Z"
   },
   {
    "duration": 22,
    "start_time": "2023-10-13T09:15:16.145Z"
   },
   {
    "duration": 1730,
    "start_time": "2023-10-16T14:25:04.990Z"
   },
   {
    "duration": 108,
    "start_time": "2023-10-16T14:25:06.723Z"
   },
   {
    "duration": 18,
    "start_time": "2023-10-16T14:25:06.833Z"
   },
   {
    "duration": 4,
    "start_time": "2023-10-16T14:25:06.853Z"
   },
   {
    "duration": 16,
    "start_time": "2023-10-16T14:25:06.858Z"
   },
   {
    "duration": 56,
    "start_time": "2023-10-16T14:25:06.876Z"
   },
   {
    "duration": 13,
    "start_time": "2023-10-16T14:25:06.934Z"
   },
   {
    "duration": 23,
    "start_time": "2023-10-16T14:25:06.949Z"
   },
   {
    "duration": 21,
    "start_time": "2023-10-16T14:25:06.975Z"
   },
   {
    "duration": 26,
    "start_time": "2023-10-16T14:25:06.999Z"
   },
   {
    "duration": 57,
    "start_time": "2023-10-16T14:25:07.027Z"
   },
   {
    "duration": 35,
    "start_time": "2023-10-16T14:25:07.086Z"
   },
   {
    "duration": 34,
    "start_time": "2023-10-16T14:25:07.123Z"
   },
   {
    "duration": 854,
    "start_time": "2023-10-16T14:25:07.159Z"
   },
   {
    "duration": 99,
    "start_time": "2023-10-16T14:25:08.016Z"
   },
   {
    "duration": 792,
    "start_time": "2023-10-16T14:25:08.200Z"
   },
   {
    "duration": 14,
    "start_time": "2023-10-16T14:25:08.993Z"
   },
   {
    "duration": 82,
    "start_time": "2023-10-16T14:25:09.009Z"
   },
   {
    "duration": 43,
    "start_time": "2023-10-16T14:25:09.092Z"
   },
   {
    "duration": 9,
    "start_time": "2023-10-16T14:25:09.136Z"
   },
   {
    "duration": 11,
    "start_time": "2023-10-16T14:25:09.147Z"
   },
   {
    "duration": 145,
    "start_time": "2023-10-16T14:25:09.159Z"
   },
   {
    "duration": 106,
    "start_time": "2023-10-16T14:25:09.307Z"
   },
   {
    "duration": 10,
    "start_time": "2023-10-16T14:25:09.415Z"
   },
   {
    "duration": 84,
    "start_time": "2023-10-16T14:25:09.427Z"
   },
   {
    "duration": 98,
    "start_time": "2023-10-16T14:25:09.516Z"
   },
   {
    "duration": 10,
    "start_time": "2023-10-16T14:25:09.616Z"
   },
   {
    "duration": 39,
    "start_time": "2023-10-16T14:25:09.631Z"
   },
   {
    "duration": 836,
    "start_time": "2023-10-16T14:25:09.671Z"
   },
   {
    "duration": 1296,
    "start_time": "2023-10-16T14:25:10.510Z"
   },
   {
    "duration": 126,
    "start_time": "2023-10-16T14:25:11.810Z"
   },
   {
    "duration": 12,
    "start_time": "2023-10-16T14:25:11.938Z"
   },
   {
    "duration": 1090,
    "start_time": "2023-10-16T14:25:11.952Z"
   },
   {
    "duration": 10,
    "start_time": "2023-10-16T14:25:13.044Z"
   },
   {
    "duration": 59,
    "start_time": "2023-10-16T14:25:13.056Z"
   },
   {
    "duration": 90,
    "start_time": "2023-10-16T14:25:13.117Z"
   },
   {
    "duration": 678,
    "start_time": "2023-10-16T14:25:13.209Z"
   },
   {
    "duration": 77,
    "start_time": "2023-10-16T14:25:13.889Z"
   },
   {
    "duration": 13,
    "start_time": "2023-10-16T14:25:13.968Z"
   },
   {
    "duration": 34,
    "start_time": "2023-10-16T14:25:13.983Z"
   },
   {
    "duration": 5,
    "start_time": "2023-10-16T14:25:14.019Z"
   },
   {
    "duration": 7,
    "start_time": "2023-10-16T14:25:14.026Z"
   },
   {
    "duration": 106,
    "start_time": "2023-10-16T14:33:38.571Z"
   },
   {
    "duration": 8,
    "start_time": "2023-10-16T14:37:51.203Z"
   },
   {
    "duration": 7,
    "start_time": "2023-10-16T15:22:27.077Z"
   },
   {
    "duration": 24,
    "start_time": "2023-10-16T15:22:36.722Z"
   },
   {
    "duration": 9,
    "start_time": "2023-10-16T15:23:56.641Z"
   },
   {
    "duration": 24,
    "start_time": "2023-10-16T15:23:58.782Z"
   },
   {
    "duration": 1435,
    "start_time": "2023-10-16T15:32:02.756Z"
   },
   {
    "duration": 63,
    "start_time": "2023-10-16T15:32:04.193Z"
   },
   {
    "duration": 14,
    "start_time": "2023-10-16T15:32:04.258Z"
   },
   {
    "duration": 93,
    "start_time": "2023-10-16T15:32:04.274Z"
   },
   {
    "duration": 22,
    "start_time": "2023-10-16T15:32:04.369Z"
   },
   {
    "duration": 44,
    "start_time": "2023-10-16T15:32:04.393Z"
   },
   {
    "duration": 11,
    "start_time": "2023-10-16T15:32:04.439Z"
   },
   {
    "duration": 15,
    "start_time": "2023-10-16T15:32:04.452Z"
   },
   {
    "duration": 19,
    "start_time": "2023-10-16T15:32:04.468Z"
   },
   {
    "duration": 27,
    "start_time": "2023-10-16T15:32:04.489Z"
   },
   {
    "duration": 36,
    "start_time": "2023-10-16T15:32:04.518Z"
   },
   {
    "duration": 17,
    "start_time": "2023-10-16T15:32:04.556Z"
   },
   {
    "duration": 12,
    "start_time": "2023-10-16T15:32:04.575Z"
   },
   {
    "duration": 48,
    "start_time": "2023-10-16T15:32:04.589Z"
   },
   {
    "duration": 28,
    "start_time": "2023-10-16T15:32:04.639Z"
   },
   {
    "duration": 790,
    "start_time": "2023-10-16T15:32:04.670Z"
   },
   {
    "duration": 41,
    "start_time": "2023-10-16T15:32:05.462Z"
   },
   {
    "duration": 890,
    "start_time": "2023-10-16T15:32:05.505Z"
   },
   {
    "duration": 9,
    "start_time": "2023-10-16T15:32:06.401Z"
   },
   {
    "duration": 72,
    "start_time": "2023-10-16T15:32:06.411Z"
   },
   {
    "duration": 38,
    "start_time": "2023-10-16T15:32:06.484Z"
   },
   {
    "duration": 16,
    "start_time": "2023-10-16T15:32:06.524Z"
   },
   {
    "duration": 9,
    "start_time": "2023-10-16T15:32:06.542Z"
   },
   {
    "duration": 54,
    "start_time": "2023-10-16T15:32:06.553Z"
   },
   {
    "duration": 191,
    "start_time": "2023-10-16T15:32:06.610Z"
   },
   {
    "duration": 14,
    "start_time": "2023-10-16T15:32:06.803Z"
   },
   {
    "duration": 182,
    "start_time": "2023-10-16T15:32:06.820Z"
   },
   {
    "duration": 44,
    "start_time": "2023-10-16T15:32:07.005Z"
   },
   {
    "duration": 34,
    "start_time": "2023-10-16T15:32:07.051Z"
   },
   {
    "duration": 29,
    "start_time": "2023-10-16T15:32:07.087Z"
   },
   {
    "duration": 785,
    "start_time": "2023-10-16T15:32:07.118Z"
   },
   {
    "duration": 1230,
    "start_time": "2023-10-16T15:32:07.906Z"
   },
   {
    "duration": 133,
    "start_time": "2023-10-16T15:32:09.202Z"
   },
   {
    "duration": 12,
    "start_time": "2023-10-16T15:32:09.336Z"
   },
   {
    "duration": 999,
    "start_time": "2023-10-16T15:32:09.349Z"
   },
   {
    "duration": 11,
    "start_time": "2023-10-16T15:32:10.350Z"
   },
   {
    "duration": 45,
    "start_time": "2023-10-16T15:32:10.363Z"
   },
   {
    "duration": 92,
    "start_time": "2023-10-16T15:32:10.411Z"
   },
   {
    "duration": 663,
    "start_time": "2023-10-16T15:32:10.505Z"
   },
   {
    "duration": 64,
    "start_time": "2023-10-16T15:32:11.170Z"
   },
   {
    "duration": 12,
    "start_time": "2023-10-16T15:32:11.236Z"
   },
   {
    "duration": 13,
    "start_time": "2023-10-16T15:32:11.249Z"
   },
   {
    "duration": 30,
    "start_time": "2023-10-16T15:32:11.264Z"
   },
   {
    "duration": 49,
    "start_time": "2023-10-16T15:32:11.296Z"
   },
   {
    "duration": 1521,
    "start_time": "2023-10-16T15:50:48.555Z"
   },
   {
    "duration": 64,
    "start_time": "2023-10-16T15:50:50.078Z"
   },
   {
    "duration": 13,
    "start_time": "2023-10-16T15:50:50.144Z"
   },
   {
    "duration": 15,
    "start_time": "2023-10-16T15:50:50.159Z"
   },
   {
    "duration": 38,
    "start_time": "2023-10-16T15:50:50.176Z"
   },
   {
    "duration": 86,
    "start_time": "2023-10-16T15:50:50.216Z"
   },
   {
    "duration": 46,
    "start_time": "2023-10-16T15:50:50.304Z"
   },
   {
    "duration": 59,
    "start_time": "2023-10-16T15:50:50.352Z"
   },
   {
    "duration": 73,
    "start_time": "2023-10-16T15:50:50.412Z"
   },
   {
    "duration": 47,
    "start_time": "2023-10-16T15:50:50.488Z"
   },
   {
    "duration": 76,
    "start_time": "2023-10-16T15:50:50.537Z"
   },
   {
    "duration": 92,
    "start_time": "2023-10-16T15:50:50.614Z"
   },
   {
    "duration": 98,
    "start_time": "2023-10-16T15:50:50.708Z"
   },
   {
    "duration": 97,
    "start_time": "2023-10-16T15:50:50.808Z"
   },
   {
    "duration": 40,
    "start_time": "2023-10-16T15:50:50.907Z"
   },
   {
    "duration": 793,
    "start_time": "2023-10-16T15:50:50.949Z"
   },
   {
    "duration": 63,
    "start_time": "2023-10-16T15:50:51.743Z"
   },
   {
    "duration": 873,
    "start_time": "2023-10-16T15:50:51.809Z"
   },
   {
    "duration": 21,
    "start_time": "2023-10-16T15:50:52.683Z"
   },
   {
    "duration": 79,
    "start_time": "2023-10-16T15:50:52.706Z"
   },
   {
    "duration": 51,
    "start_time": "2023-10-16T15:50:52.787Z"
   },
   {
    "duration": 9,
    "start_time": "2023-10-16T15:50:52.840Z"
   },
   {
    "duration": 53,
    "start_time": "2023-10-16T15:50:52.851Z"
   },
   {
    "duration": 98,
    "start_time": "2023-10-16T15:50:52.905Z"
   },
   {
    "duration": 97,
    "start_time": "2023-10-16T15:50:53.006Z"
   },
   {
    "duration": 45,
    "start_time": "2023-10-16T15:50:53.106Z"
   },
   {
    "duration": 173,
    "start_time": "2023-10-16T15:50:53.154Z"
   },
   {
    "duration": 22,
    "start_time": "2023-10-16T15:50:53.331Z"
   },
   {
    "duration": 4,
    "start_time": "2023-10-16T15:50:53.355Z"
   },
   {
    "duration": 22,
    "start_time": "2023-10-16T15:50:53.360Z"
   },
   {
    "duration": 819,
    "start_time": "2023-10-16T15:50:53.384Z"
   },
   {
    "duration": 1259,
    "start_time": "2023-10-16T15:50:54.206Z"
   },
   {
    "duration": 130,
    "start_time": "2023-10-16T15:50:55.503Z"
   },
   {
    "duration": 15,
    "start_time": "2023-10-16T15:50:55.635Z"
   },
   {
    "duration": 1048,
    "start_time": "2023-10-16T15:50:55.653Z"
   },
   {
    "duration": 12,
    "start_time": "2023-10-16T15:50:56.703Z"
   },
   {
    "duration": 70,
    "start_time": "2023-10-16T15:50:56.717Z"
   },
   {
    "duration": 213,
    "start_time": "2023-10-16T15:50:56.789Z"
   },
   {
    "duration": 601,
    "start_time": "2023-10-16T15:50:57.003Z"
   },
   {
    "duration": 62,
    "start_time": "2023-10-16T15:50:57.605Z"
   },
   {
    "duration": 13,
    "start_time": "2023-10-16T15:50:57.669Z"
   },
   {
    "duration": 41,
    "start_time": "2023-10-16T15:50:57.702Z"
   },
   {
    "duration": 72,
    "start_time": "2023-10-16T15:50:57.745Z"
   },
   {
    "duration": 246,
    "start_time": "2023-10-16T15:50:57.819Z"
   },
   {
    "duration": 1644,
    "start_time": "2023-10-25T05:48:32.672Z"
   },
   {
    "duration": 138,
    "start_time": "2023-10-25T05:48:34.318Z"
   },
   {
    "duration": 24,
    "start_time": "2023-10-25T05:48:34.458Z"
   },
   {
    "duration": 11,
    "start_time": "2023-10-25T05:48:34.485Z"
   },
   {
    "duration": 54,
    "start_time": "2023-10-25T05:48:34.499Z"
   },
   {
    "duration": 103,
    "start_time": "2023-10-25T05:48:34.556Z"
   },
   {
    "duration": 12,
    "start_time": "2023-10-25T05:48:34.663Z"
   },
   {
    "duration": 54,
    "start_time": "2023-10-25T05:48:34.677Z"
   },
   {
    "duration": 44,
    "start_time": "2023-10-25T05:48:34.733Z"
   },
   {
    "duration": 30,
    "start_time": "2023-10-25T05:48:34.780Z"
   },
   {
    "duration": 55,
    "start_time": "2023-10-25T05:48:34.812Z"
   },
   {
    "duration": 16,
    "start_time": "2023-10-25T05:48:34.869Z"
   },
   {
    "duration": 23,
    "start_time": "2023-10-25T05:48:34.887Z"
   },
   {
    "duration": 59,
    "start_time": "2023-10-25T05:48:34.912Z"
   },
   {
    "duration": 24,
    "start_time": "2023-10-25T05:48:34.972Z"
   },
   {
    "duration": 752,
    "start_time": "2023-10-25T05:48:34.997Z"
   },
   {
    "duration": 197,
    "start_time": "2023-10-25T05:48:35.752Z"
   },
   {
    "duration": 830,
    "start_time": "2023-10-25T05:48:35.952Z"
   },
   {
    "duration": 9,
    "start_time": "2023-10-25T05:48:36.784Z"
   },
   {
    "duration": 41,
    "start_time": "2023-10-25T05:48:36.794Z"
   },
   {
    "duration": 54,
    "start_time": "2023-10-25T05:48:36.836Z"
   },
   {
    "duration": 10,
    "start_time": "2023-10-25T05:48:36.893Z"
   },
   {
    "duration": 17,
    "start_time": "2023-10-25T05:48:36.904Z"
   },
   {
    "duration": 126,
    "start_time": "2023-10-25T05:48:36.923Z"
   },
   {
    "duration": 92,
    "start_time": "2023-10-25T05:48:37.054Z"
   },
   {
    "duration": 24,
    "start_time": "2023-10-25T05:48:37.147Z"
   },
   {
    "duration": 75,
    "start_time": "2023-10-25T05:48:37.173Z"
   },
   {
    "duration": 118,
    "start_time": "2023-10-25T05:48:37.255Z"
   },
   {
    "duration": 7,
    "start_time": "2023-10-25T05:48:37.375Z"
   },
   {
    "duration": 12,
    "start_time": "2023-10-25T05:48:37.384Z"
   },
   {
    "duration": 786,
    "start_time": "2023-10-25T05:48:37.398Z"
   },
   {
    "duration": 1201,
    "start_time": "2023-10-25T05:48:38.244Z"
   },
   {
    "duration": 118,
    "start_time": "2023-10-25T05:48:39.446Z"
   },
   {
    "duration": 11,
    "start_time": "2023-10-25T05:48:39.565Z"
   },
   {
    "duration": 973,
    "start_time": "2023-10-25T05:48:39.577Z"
   },
   {
    "duration": 13,
    "start_time": "2023-10-25T05:48:40.555Z"
   },
   {
    "duration": 38,
    "start_time": "2023-10-25T05:48:40.569Z"
   },
   {
    "duration": 26,
    "start_time": "2023-10-25T05:48:40.643Z"
   },
   {
    "duration": 589,
    "start_time": "2023-10-25T05:48:40.749Z"
   },
   {
    "duration": 59,
    "start_time": "2023-10-25T05:48:41.344Z"
   },
   {
    "duration": 10,
    "start_time": "2023-10-25T05:48:41.405Z"
   },
   {
    "duration": 19,
    "start_time": "2023-10-25T05:48:41.417Z"
   },
   {
    "duration": 21,
    "start_time": "2023-10-25T05:48:41.437Z"
   },
   {
    "duration": 26,
    "start_time": "2023-10-25T05:48:41.460Z"
   },
   {
    "duration": 9,
    "start_time": "2023-10-25T05:50:34.166Z"
   },
   {
    "duration": 25,
    "start_time": "2023-10-25T05:50:36.527Z"
   },
   {
    "duration": 4,
    "start_time": "2023-10-25T05:55:12.024Z"
   },
   {
    "duration": 1299,
    "start_time": "2023-10-25T05:55:20.255Z"
   },
   {
    "duration": 54,
    "start_time": "2023-10-25T05:55:21.556Z"
   },
   {
    "duration": 12,
    "start_time": "2023-10-25T05:55:21.611Z"
   },
   {
    "duration": 6,
    "start_time": "2023-10-25T05:55:21.624Z"
   },
   {
    "duration": 15,
    "start_time": "2023-10-25T05:55:21.632Z"
   },
   {
    "duration": 36,
    "start_time": "2023-10-25T05:55:21.649Z"
   },
   {
    "duration": 10,
    "start_time": "2023-10-25T05:55:21.687Z"
   },
   {
    "duration": 12,
    "start_time": "2023-10-25T05:55:21.698Z"
   },
   {
    "duration": 16,
    "start_time": "2023-10-25T05:55:21.711Z"
   },
   {
    "duration": 4,
    "start_time": "2023-10-25T05:55:21.743Z"
   },
   {
    "duration": 36,
    "start_time": "2023-10-25T05:55:21.749Z"
   },
   {
    "duration": 11,
    "start_time": "2023-10-25T05:55:21.787Z"
   },
   {
    "duration": 13,
    "start_time": "2023-10-25T05:55:21.799Z"
   },
   {
    "duration": 31,
    "start_time": "2023-10-25T05:55:21.813Z"
   },
   {
    "duration": 22,
    "start_time": "2023-10-25T05:55:21.845Z"
   },
   {
    "duration": 701,
    "start_time": "2023-10-25T05:55:21.869Z"
   },
   {
    "duration": 75,
    "start_time": "2023-10-25T05:55:22.571Z"
   },
   {
    "duration": 774,
    "start_time": "2023-10-25T05:55:22.648Z"
   },
   {
    "duration": 9,
    "start_time": "2023-10-25T05:55:23.423Z"
   },
   {
    "duration": 57,
    "start_time": "2023-10-25T05:55:23.433Z"
   },
   {
    "duration": 36,
    "start_time": "2023-10-25T05:55:23.492Z"
   },
   {
    "duration": 13,
    "start_time": "2023-10-25T05:55:23.530Z"
   },
   {
    "duration": 7,
    "start_time": "2023-10-25T05:55:23.545Z"
   },
   {
    "duration": 92,
    "start_time": "2023-10-25T05:55:23.553Z"
   },
   {
    "duration": 101,
    "start_time": "2023-10-25T05:55:23.648Z"
   },
   {
    "duration": 12,
    "start_time": "2023-10-25T05:55:23.751Z"
   },
   {
    "duration": 80,
    "start_time": "2023-10-25T05:55:23.766Z"
   },
   {
    "duration": 109,
    "start_time": "2023-10-25T05:55:23.852Z"
   },
   {
    "duration": 3,
    "start_time": "2023-10-25T05:55:23.963Z"
   },
   {
    "duration": 16,
    "start_time": "2023-10-25T05:55:23.968Z"
   },
   {
    "duration": 766,
    "start_time": "2023-10-25T05:55:23.986Z"
   },
   {
    "duration": 1139,
    "start_time": "2023-10-25T05:55:24.754Z"
   },
   {
    "duration": 128,
    "start_time": "2023-10-25T05:55:25.945Z"
   },
   {
    "duration": 10,
    "start_time": "2023-10-25T05:55:26.075Z"
   },
   {
    "duration": 924,
    "start_time": "2023-10-25T05:55:26.087Z"
   },
   {
    "duration": 10,
    "start_time": "2023-10-25T05:55:27.012Z"
   },
   {
    "duration": 33,
    "start_time": "2023-10-25T05:55:27.023Z"
   },
   {
    "duration": 86,
    "start_time": "2023-10-25T05:55:27.059Z"
   },
   {
    "duration": 627,
    "start_time": "2023-10-25T05:55:27.147Z"
   },
   {
    "duration": 55,
    "start_time": "2023-10-25T05:55:27.776Z"
   },
   {
    "duration": 18,
    "start_time": "2023-10-25T05:55:27.833Z"
   },
   {
    "duration": 14,
    "start_time": "2023-10-25T05:55:27.853Z"
   },
   {
    "duration": 27,
    "start_time": "2023-10-25T05:55:27.869Z"
   },
   {
    "duration": 29,
    "start_time": "2023-10-25T05:55:27.898Z"
   },
   {
    "duration": 8,
    "start_time": "2023-10-25T05:59:05.963Z"
   },
   {
    "duration": 20,
    "start_time": "2023-10-25T05:59:07.494Z"
   },
   {
    "duration": 7,
    "start_time": "2023-10-25T05:59:17.937Z"
   },
   {
    "duration": 16,
    "start_time": "2023-10-25T05:59:19.288Z"
   },
   {
    "duration": 9,
    "start_time": "2023-10-25T05:59:38.794Z"
   },
   {
    "duration": 21,
    "start_time": "2023-10-25T05:59:50.257Z"
   },
   {
    "duration": 8,
    "start_time": "2023-10-25T05:59:59.465Z"
   },
   {
    "duration": 12,
    "start_time": "2023-10-25T06:00:09.219Z"
   },
   {
    "duration": 101,
    "start_time": "2023-10-25T06:05:35.853Z"
   },
   {
    "duration": 21,
    "start_time": "2023-10-25T06:05:47.582Z"
   },
   {
    "duration": 22,
    "start_time": "2023-10-25T06:09:54.426Z"
   },
   {
    "duration": 1447,
    "start_time": "2023-10-25T06:10:27.334Z"
   },
   {
    "duration": 60,
    "start_time": "2023-10-25T06:10:28.783Z"
   },
   {
    "duration": 13,
    "start_time": "2023-10-25T06:10:28.844Z"
   },
   {
    "duration": 12,
    "start_time": "2023-10-25T06:10:28.859Z"
   },
   {
    "duration": 21,
    "start_time": "2023-10-25T06:10:28.872Z"
   },
   {
    "duration": 36,
    "start_time": "2023-10-25T06:10:28.894Z"
   },
   {
    "duration": 20,
    "start_time": "2023-10-25T06:10:28.932Z"
   },
   {
    "duration": 14,
    "start_time": "2023-10-25T06:10:28.953Z"
   },
   {
    "duration": 28,
    "start_time": "2023-10-25T06:10:28.969Z"
   },
   {
    "duration": 10,
    "start_time": "2023-10-25T06:10:28.999Z"
   },
   {
    "duration": 35,
    "start_time": "2023-10-25T06:10:29.010Z"
   },
   {
    "duration": 13,
    "start_time": "2023-10-25T06:10:29.047Z"
   },
   {
    "duration": 24,
    "start_time": "2023-10-25T06:10:29.062Z"
   },
   {
    "duration": 741,
    "start_time": "2023-10-25T06:10:29.088Z"
   },
   {
    "duration": 37,
    "start_time": "2023-10-25T06:10:29.831Z"
   },
   {
    "duration": 874,
    "start_time": "2023-10-25T06:10:29.870Z"
   },
   {
    "duration": 9,
    "start_time": "2023-10-25T06:10:30.746Z"
   },
   {
    "duration": 228,
    "start_time": "2023-10-25T06:10:30.756Z"
   },
   {
    "duration": 39,
    "start_time": "2023-10-25T06:10:30.986Z"
   },
   {
    "duration": 21,
    "start_time": "2023-10-25T06:10:31.027Z"
   },
   {
    "duration": 41,
    "start_time": "2023-10-25T06:10:31.051Z"
   },
   {
    "duration": 152,
    "start_time": "2023-10-25T06:10:31.094Z"
   },
   {
    "duration": 170,
    "start_time": "2023-10-25T06:10:31.249Z"
   },
   {
    "duration": 72,
    "start_time": "2023-10-25T06:10:31.420Z"
   },
   {
    "duration": 57,
    "start_time": "2023-10-25T06:10:31.494Z"
   },
   {
    "duration": 101,
    "start_time": "2023-10-25T06:10:31.555Z"
   },
   {
    "duration": 38,
    "start_time": "2023-10-25T06:10:31.657Z"
   },
   {
    "duration": 45,
    "start_time": "2023-10-25T06:10:31.698Z"
   },
   {
    "duration": 842,
    "start_time": "2023-10-25T06:10:31.745Z"
   },
   {
    "duration": 1156,
    "start_time": "2023-10-25T06:10:32.589Z"
   },
   {
    "duration": 224,
    "start_time": "2023-10-25T06:10:33.749Z"
   },
   {
    "duration": 12,
    "start_time": "2023-10-25T06:10:33.975Z"
   },
   {
    "duration": 993,
    "start_time": "2023-10-25T06:10:33.989Z"
   },
   {
    "duration": 11,
    "start_time": "2023-10-25T06:10:34.984Z"
   },
   {
    "duration": 64,
    "start_time": "2023-10-25T06:10:34.997Z"
   },
   {
    "duration": 105,
    "start_time": "2023-10-25T06:10:35.143Z"
   },
   {
    "duration": 539,
    "start_time": "2023-10-25T06:10:35.249Z"
   },
   {
    "duration": 67,
    "start_time": "2023-10-25T06:10:35.789Z"
   },
   {
    "duration": 11,
    "start_time": "2023-10-25T06:10:35.858Z"
   },
   {
    "duration": 42,
    "start_time": "2023-10-25T06:10:35.871Z"
   },
   {
    "duration": 86,
    "start_time": "2023-10-25T06:10:35.915Z"
   },
   {
    "duration": 24,
    "start_time": "2023-10-25T06:10:36.003Z"
   },
   {
    "duration": 120,
    "start_time": "2023-10-25T06:17:56.317Z"
   },
   {
    "duration": 10,
    "start_time": "2023-10-25T06:18:08.422Z"
   },
   {
    "duration": 6,
    "start_time": "2023-10-25T06:19:28.192Z"
   },
   {
    "duration": 4,
    "start_time": "2023-10-25T06:19:29.935Z"
   },
   {
    "duration": 16,
    "start_time": "2023-10-25T06:21:44.801Z"
   },
   {
    "duration": 10,
    "start_time": "2023-10-25T06:23:37.487Z"
   },
   {
    "duration": 13,
    "start_time": "2023-10-25T06:24:22.896Z"
   },
   {
    "duration": 11,
    "start_time": "2023-10-25T06:24:30.678Z"
   },
   {
    "duration": 367,
    "start_time": "2023-10-25T06:25:55.871Z"
   },
   {
    "duration": 11,
    "start_time": "2023-10-25T06:26:26.038Z"
   },
   {
    "duration": 1480,
    "start_time": "2023-10-25T06:28:43.347Z"
   },
   {
    "duration": 57,
    "start_time": "2023-10-25T06:28:44.828Z"
   },
   {
    "duration": 12,
    "start_time": "2023-10-25T06:28:44.886Z"
   },
   {
    "duration": 25,
    "start_time": "2023-10-25T06:28:44.900Z"
   },
   {
    "duration": 38,
    "start_time": "2023-10-25T06:28:44.927Z"
   },
   {
    "duration": 41,
    "start_time": "2023-10-25T06:28:44.967Z"
   },
   {
    "duration": 11,
    "start_time": "2023-10-25T06:28:45.010Z"
   },
   {
    "duration": 53,
    "start_time": "2023-10-25T06:28:45.023Z"
   },
   {
    "duration": 44,
    "start_time": "2023-10-25T06:28:45.078Z"
   },
   {
    "duration": 54,
    "start_time": "2023-10-25T06:28:45.124Z"
   },
   {
    "duration": 56,
    "start_time": "2023-10-25T06:28:45.180Z"
   },
   {
    "duration": 16,
    "start_time": "2023-10-25T06:28:45.239Z"
   },
   {
    "duration": 51,
    "start_time": "2023-10-25T06:28:45.257Z"
   },
   {
    "duration": 728,
    "start_time": "2023-10-25T06:28:45.310Z"
   },
   {
    "duration": 110,
    "start_time": "2023-10-25T06:28:46.040Z"
   },
   {
    "duration": 883,
    "start_time": "2023-10-25T06:28:46.152Z"
   },
   {
    "duration": 16,
    "start_time": "2023-10-25T06:28:47.037Z"
   },
   {
    "duration": 93,
    "start_time": "2023-10-25T06:28:47.055Z"
   },
   {
    "duration": 36,
    "start_time": "2023-10-25T06:28:47.150Z"
   },
   {
    "duration": 9,
    "start_time": "2023-10-25T06:28:47.187Z"
   },
   {
    "duration": 34,
    "start_time": "2023-10-25T06:28:47.198Z"
   },
   {
    "duration": 210,
    "start_time": "2023-10-25T06:28:47.234Z"
   },
   {
    "duration": 10,
    "start_time": "2023-10-25T06:28:47.445Z"
   },
   {
    "duration": 14,
    "start_time": "2023-10-25T06:28:47.456Z"
   },
   {
    "duration": 105,
    "start_time": "2023-10-25T06:28:47.546Z"
   },
   {
    "duration": 37,
    "start_time": "2023-10-25T06:28:47.652Z"
   },
   {
    "duration": 10,
    "start_time": "2023-10-25T06:28:47.691Z"
   },
   {
    "duration": 23,
    "start_time": "2023-10-25T06:28:47.704Z"
   },
   {
    "duration": 755,
    "start_time": "2023-10-25T06:28:47.728Z"
   },
   {
    "duration": 1159,
    "start_time": "2023-10-25T06:28:48.486Z"
   },
   {
    "duration": 218,
    "start_time": "2023-10-25T06:28:49.648Z"
   },
   {
    "duration": 10,
    "start_time": "2023-10-25T06:28:49.868Z"
   },
   {
    "duration": 961,
    "start_time": "2023-10-25T06:28:49.880Z"
   },
   {
    "duration": 16,
    "start_time": "2023-10-25T06:28:50.843Z"
   },
   {
    "duration": 121,
    "start_time": "2023-10-25T06:28:50.861Z"
   },
   {
    "duration": 170,
    "start_time": "2023-10-25T06:28:50.984Z"
   },
   {
    "duration": 55,
    "start_time": "2023-10-25T06:28:51.156Z"
   },
   {
    "duration": 59,
    "start_time": "2023-10-25T06:28:51.213Z"
   },
   {
    "duration": 43,
    "start_time": "2023-10-25T06:28:51.274Z"
   },
   {
    "duration": 379,
    "start_time": "2023-10-25T06:28:51.319Z"
   },
   {
    "duration": 11,
    "start_time": "2023-10-25T06:28:51.700Z"
   },
   {
    "duration": 563,
    "start_time": "2023-10-25T06:28:51.713Z"
   },
   {
    "duration": 71,
    "start_time": "2023-10-25T06:28:52.278Z"
   },
   {
    "duration": 12,
    "start_time": "2023-10-25T06:28:52.350Z"
   },
   {
    "duration": 9,
    "start_time": "2023-10-25T06:28:52.363Z"
   },
   {
    "duration": 37,
    "start_time": "2023-10-25T06:28:52.373Z"
   },
   {
    "duration": 15,
    "start_time": "2023-10-25T06:28:52.412Z"
   },
   {
    "duration": 1651,
    "start_time": "2023-10-25T09:58:17.584Z"
   },
   {
    "duration": 106,
    "start_time": "2023-10-25T09:58:19.237Z"
   },
   {
    "duration": 13,
    "start_time": "2023-10-25T09:58:19.345Z"
   },
   {
    "duration": 106,
    "start_time": "2023-10-25T09:58:19.359Z"
   },
   {
    "duration": 44,
    "start_time": "2023-10-25T09:58:19.467Z"
   },
   {
    "duration": 57,
    "start_time": "2023-10-25T09:58:19.513Z"
   },
   {
    "duration": 10,
    "start_time": "2023-10-25T09:58:19.572Z"
   },
   {
    "duration": 61,
    "start_time": "2023-10-25T09:58:19.584Z"
   },
   {
    "duration": 4,
    "start_time": "2023-10-25T09:58:19.647Z"
   },
   {
    "duration": 106,
    "start_time": "2023-10-25T09:58:19.653Z"
   },
   {
    "duration": 113,
    "start_time": "2023-10-25T09:58:19.761Z"
   },
   {
    "duration": 77,
    "start_time": "2023-10-25T09:58:19.876Z"
   },
   {
    "duration": 60,
    "start_time": "2023-10-25T09:58:19.954Z"
   },
   {
    "duration": 883,
    "start_time": "2023-10-25T09:58:20.016Z"
   },
   {
    "duration": 53,
    "start_time": "2023-10-25T09:58:20.901Z"
   },
   {
    "duration": 916,
    "start_time": "2023-10-25T09:58:20.956Z"
   },
   {
    "duration": 8,
    "start_time": "2023-10-25T09:58:21.874Z"
   },
   {
    "duration": 126,
    "start_time": "2023-10-25T09:58:21.884Z"
   },
   {
    "duration": 56,
    "start_time": "2023-10-25T09:58:22.012Z"
   },
   {
    "duration": 76,
    "start_time": "2023-10-25T09:58:22.070Z"
   },
   {
    "duration": 50,
    "start_time": "2023-10-25T09:58:22.147Z"
   },
   {
    "duration": 231,
    "start_time": "2023-10-25T09:58:22.199Z"
   },
   {
    "duration": 130,
    "start_time": "2023-10-25T09:58:22.432Z"
   },
   {
    "duration": 103,
    "start_time": "2023-10-25T09:58:22.563Z"
   },
   {
    "duration": 168,
    "start_time": "2023-10-25T09:58:22.668Z"
   },
   {
    "duration": 54,
    "start_time": "2023-10-25T09:58:22.839Z"
   },
   {
    "duration": 33,
    "start_time": "2023-10-25T09:58:22.895Z"
   },
   {
    "duration": 47,
    "start_time": "2023-10-25T09:58:22.935Z"
   },
   {
    "duration": 881,
    "start_time": "2023-10-25T09:58:22.984Z"
   },
   {
    "duration": 1208,
    "start_time": "2023-10-25T09:58:23.923Z"
   },
   {
    "duration": 204,
    "start_time": "2023-10-25T09:58:25.134Z"
   },
   {
    "duration": 10,
    "start_time": "2023-10-25T09:58:25.340Z"
   },
   {
    "duration": 1090,
    "start_time": "2023-10-25T09:58:25.352Z"
   },
   {
    "duration": 10,
    "start_time": "2023-10-25T09:58:26.443Z"
   },
   {
    "duration": 71,
    "start_time": "2023-10-25T09:58:26.455Z"
   },
   {
    "duration": 111,
    "start_time": "2023-10-25T09:58:26.532Z"
   },
   {
    "duration": 154,
    "start_time": "2023-10-25T09:58:26.644Z"
   },
   {
    "duration": 142,
    "start_time": "2023-10-25T09:58:26.800Z"
   },
   {
    "duration": 244,
    "start_time": "2023-10-25T09:58:26.944Z"
   },
   {
    "duration": 0,
    "start_time": "2023-10-25T09:58:27.190Z"
   },
   {
    "duration": 0,
    "start_time": "2023-10-25T09:58:27.191Z"
   },
   {
    "duration": 0,
    "start_time": "2023-10-25T09:58:27.192Z"
   },
   {
    "duration": 0,
    "start_time": "2023-10-25T09:58:27.193Z"
   },
   {
    "duration": 0,
    "start_time": "2023-10-25T09:58:27.194Z"
   },
   {
    "duration": 0,
    "start_time": "2023-10-25T09:58:27.195Z"
   },
   {
    "duration": 0,
    "start_time": "2023-10-25T09:58:27.196Z"
   },
   {
    "duration": 0,
    "start_time": "2023-10-25T09:58:27.197Z"
   },
   {
    "duration": 1264,
    "start_time": "2023-10-25T09:58:58.079Z"
   },
   {
    "duration": 57,
    "start_time": "2023-10-25T09:58:59.345Z"
   },
   {
    "duration": 29,
    "start_time": "2023-10-25T09:58:59.403Z"
   },
   {
    "duration": 13,
    "start_time": "2023-10-25T09:58:59.434Z"
   },
   {
    "duration": 91,
    "start_time": "2023-10-25T09:58:59.448Z"
   },
   {
    "duration": 46,
    "start_time": "2023-10-25T09:58:59.541Z"
   },
   {
    "duration": 9,
    "start_time": "2023-10-25T09:58:59.589Z"
   },
   {
    "duration": 12,
    "start_time": "2023-10-25T09:58:59.600Z"
   },
   {
    "duration": 12,
    "start_time": "2023-10-25T09:58:59.613Z"
   },
   {
    "duration": 67,
    "start_time": "2023-10-25T09:58:59.628Z"
   },
   {
    "duration": 72,
    "start_time": "2023-10-25T09:58:59.696Z"
   },
   {
    "duration": 11,
    "start_time": "2023-10-25T09:58:59.769Z"
   },
   {
    "duration": 21,
    "start_time": "2023-10-25T09:58:59.782Z"
   },
   {
    "duration": 744,
    "start_time": "2023-10-25T09:58:59.805Z"
   },
   {
    "duration": 31,
    "start_time": "2023-10-25T09:59:00.551Z"
   },
   {
    "duration": 807,
    "start_time": "2023-10-25T09:59:00.624Z"
   },
   {
    "duration": 9,
    "start_time": "2023-10-25T09:59:01.433Z"
   },
   {
    "duration": 81,
    "start_time": "2023-10-25T09:59:01.443Z"
   },
   {
    "duration": 43,
    "start_time": "2023-10-25T09:59:01.527Z"
   },
   {
    "duration": 12,
    "start_time": "2023-10-25T09:59:01.572Z"
   },
   {
    "duration": 75,
    "start_time": "2023-10-25T09:59:01.586Z"
   },
   {
    "duration": 66,
    "start_time": "2023-10-25T09:59:01.662Z"
   },
   {
    "duration": 229,
    "start_time": "2023-10-25T09:59:01.730Z"
   },
   {
    "duration": 65,
    "start_time": "2023-10-25T09:59:01.961Z"
   },
   {
    "duration": 196,
    "start_time": "2023-10-25T09:59:02.029Z"
   },
   {
    "duration": 56,
    "start_time": "2023-10-25T09:59:02.227Z"
   },
   {
    "duration": 25,
    "start_time": "2023-10-25T09:59:02.285Z"
   },
   {
    "duration": 54,
    "start_time": "2023-10-25T09:59:02.313Z"
   },
   {
    "duration": 757,
    "start_time": "2023-10-25T09:59:02.368Z"
   },
   {
    "duration": 1197,
    "start_time": "2023-10-25T09:59:03.129Z"
   },
   {
    "duration": 210,
    "start_time": "2023-10-25T09:59:04.329Z"
   },
   {
    "duration": 73,
    "start_time": "2023-10-25T09:59:04.541Z"
   },
   {
    "duration": 990,
    "start_time": "2023-10-25T09:59:04.616Z"
   },
   {
    "duration": 16,
    "start_time": "2023-10-25T09:59:05.608Z"
   },
   {
    "duration": 398,
    "start_time": "2023-10-25T09:59:05.625Z"
   },
   {
    "duration": 99,
    "start_time": "2023-10-25T09:59:06.026Z"
   },
   {
    "duration": 36,
    "start_time": "2023-10-25T09:59:06.127Z"
   },
   {
    "duration": 42,
    "start_time": "2023-10-25T09:59:06.164Z"
   },
   {
    "duration": 217,
    "start_time": "2023-10-25T09:59:06.208Z"
   },
   {
    "duration": 0,
    "start_time": "2023-10-25T09:59:06.427Z"
   },
   {
    "duration": 0,
    "start_time": "2023-10-25T09:59:06.428Z"
   },
   {
    "duration": 0,
    "start_time": "2023-10-25T09:59:06.430Z"
   },
   {
    "duration": 0,
    "start_time": "2023-10-25T09:59:06.430Z"
   },
   {
    "duration": 0,
    "start_time": "2023-10-25T09:59:06.432Z"
   },
   {
    "duration": 0,
    "start_time": "2023-10-25T09:59:06.433Z"
   },
   {
    "duration": 0,
    "start_time": "2023-10-25T09:59:06.434Z"
   },
   {
    "duration": 0,
    "start_time": "2023-10-25T09:59:06.435Z"
   },
   {
    "duration": 15,
    "start_time": "2023-10-25T10:00:34.517Z"
   },
   {
    "duration": 21,
    "start_time": "2023-10-25T10:00:50.735Z"
   },
   {
    "duration": 138,
    "start_time": "2023-10-25T10:11:31.257Z"
   },
   {
    "duration": 14,
    "start_time": "2023-10-25T10:11:41.087Z"
   },
   {
    "duration": 1415,
    "start_time": "2023-10-25T10:12:42.442Z"
   },
   {
    "duration": 59,
    "start_time": "2023-10-25T10:12:43.860Z"
   },
   {
    "duration": 13,
    "start_time": "2023-10-25T10:12:43.921Z"
   },
   {
    "duration": 4,
    "start_time": "2023-10-25T10:12:43.936Z"
   },
   {
    "duration": 13,
    "start_time": "2023-10-25T10:12:43.941Z"
   },
   {
    "duration": 40,
    "start_time": "2023-10-25T10:12:43.955Z"
   },
   {
    "duration": 34,
    "start_time": "2023-10-25T10:12:43.997Z"
   },
   {
    "duration": 12,
    "start_time": "2023-10-25T10:12:44.033Z"
   },
   {
    "duration": 15,
    "start_time": "2023-10-25T10:12:44.048Z"
   },
   {
    "duration": 9,
    "start_time": "2023-10-25T10:12:44.066Z"
   },
   {
    "duration": 35,
    "start_time": "2023-10-25T10:12:44.077Z"
   },
   {
    "duration": 12,
    "start_time": "2023-10-25T10:12:44.113Z"
   },
   {
    "duration": 23,
    "start_time": "2023-10-25T10:12:44.126Z"
   },
   {
    "duration": 714,
    "start_time": "2023-10-25T10:12:44.150Z"
   },
   {
    "duration": 159,
    "start_time": "2023-10-25T10:12:44.865Z"
   },
   {
    "duration": 773,
    "start_time": "2023-10-25T10:12:45.027Z"
   },
   {
    "duration": 9,
    "start_time": "2023-10-25T10:12:45.802Z"
   },
   {
    "duration": 300,
    "start_time": "2023-10-25T10:12:45.812Z"
   },
   {
    "duration": 63,
    "start_time": "2023-10-25T10:12:46.114Z"
   },
   {
    "duration": 9,
    "start_time": "2023-10-25T10:12:46.179Z"
   },
   {
    "duration": 39,
    "start_time": "2023-10-25T10:12:46.190Z"
   },
   {
    "duration": 96,
    "start_time": "2023-10-25T10:12:46.231Z"
   },
   {
    "duration": 103,
    "start_time": "2023-10-25T10:12:46.329Z"
   },
   {
    "duration": 73,
    "start_time": "2023-10-25T10:12:46.434Z"
   },
   {
    "duration": 114,
    "start_time": "2023-10-25T10:12:46.523Z"
   },
   {
    "duration": 16,
    "start_time": "2023-10-25T10:12:46.638Z"
   },
   {
    "duration": 9,
    "start_time": "2023-10-25T10:12:46.656Z"
   },
   {
    "duration": 10,
    "start_time": "2023-10-25T10:12:46.667Z"
   },
   {
    "duration": 748,
    "start_time": "2023-10-25T10:12:46.679Z"
   },
   {
    "duration": 1213,
    "start_time": "2023-10-25T10:12:47.434Z"
   },
   {
    "duration": 194,
    "start_time": "2023-10-25T10:12:48.650Z"
   },
   {
    "duration": 13,
    "start_time": "2023-10-25T10:12:48.846Z"
   },
   {
    "duration": 1038,
    "start_time": "2023-10-25T10:12:48.861Z"
   },
   {
    "duration": 12,
    "start_time": "2023-10-25T10:12:49.901Z"
   },
   {
    "duration": 39,
    "start_time": "2023-10-25T10:12:49.923Z"
   },
   {
    "duration": 162,
    "start_time": "2023-10-25T10:12:49.965Z"
   },
   {
    "duration": 38,
    "start_time": "2023-10-25T10:12:50.129Z"
   },
   {
    "duration": 56,
    "start_time": "2023-10-25T10:12:50.169Z"
   },
   {
    "duration": 38,
    "start_time": "2023-10-25T10:12:50.226Z"
   },
   {
    "duration": 458,
    "start_time": "2023-10-25T10:12:50.266Z"
   },
   {
    "duration": 54,
    "start_time": "2023-10-25T10:12:50.726Z"
   },
   {
    "duration": 573,
    "start_time": "2023-10-25T10:12:50.782Z"
   },
   {
    "duration": 71,
    "start_time": "2023-10-25T10:12:51.357Z"
   },
   {
    "duration": 117,
    "start_time": "2023-10-25T10:12:51.430Z"
   },
   {
    "duration": 121,
    "start_time": "2023-10-25T10:12:51.548Z"
   },
   {
    "duration": 42,
    "start_time": "2023-10-25T10:12:51.671Z"
   },
   {
    "duration": 43,
    "start_time": "2023-10-25T10:12:51.715Z"
   },
   {
    "duration": 1424,
    "start_time": "2023-10-25T10:14:33.018Z"
   },
   {
    "duration": 55,
    "start_time": "2023-10-25T10:14:34.444Z"
   },
   {
    "duration": 12,
    "start_time": "2023-10-25T10:14:34.501Z"
   },
   {
    "duration": 249,
    "start_time": "2023-10-25T10:14:34.515Z"
   },
   {
    "duration": 77,
    "start_time": "2023-10-25T10:14:34.766Z"
   },
   {
    "duration": 178,
    "start_time": "2023-10-25T10:14:34.844Z"
   },
   {
    "duration": 100,
    "start_time": "2023-10-25T10:14:35.023Z"
   },
   {
    "duration": 46,
    "start_time": "2023-10-25T10:14:35.125Z"
   },
   {
    "duration": 36,
    "start_time": "2023-10-25T10:14:35.172Z"
   },
   {
    "duration": 45,
    "start_time": "2023-10-25T10:14:35.211Z"
   },
   {
    "duration": 77,
    "start_time": "2023-10-25T10:14:35.257Z"
   },
   {
    "duration": 68,
    "start_time": "2023-10-25T10:14:35.335Z"
   },
   {
    "duration": 113,
    "start_time": "2023-10-25T10:14:35.405Z"
   },
   {
    "duration": 827,
    "start_time": "2023-10-25T10:14:35.520Z"
   },
   {
    "duration": 78,
    "start_time": "2023-10-25T10:14:36.349Z"
   },
   {
    "duration": 937,
    "start_time": "2023-10-25T10:14:36.429Z"
   },
   {
    "duration": 9,
    "start_time": "2023-10-25T10:14:37.367Z"
   },
   {
    "duration": 290,
    "start_time": "2023-10-25T10:14:37.377Z"
   },
   {
    "duration": 172,
    "start_time": "2023-10-25T10:14:37.670Z"
   },
   {
    "duration": 35,
    "start_time": "2023-10-25T10:14:37.843Z"
   },
   {
    "duration": 152,
    "start_time": "2023-10-25T10:14:37.879Z"
   },
   {
    "duration": 291,
    "start_time": "2023-10-25T10:14:38.033Z"
   },
   {
    "duration": 138,
    "start_time": "2023-10-25T10:14:38.326Z"
   },
   {
    "duration": 57,
    "start_time": "2023-10-25T10:14:38.466Z"
   },
   {
    "duration": 202,
    "start_time": "2023-10-25T10:14:38.527Z"
   },
   {
    "duration": 70,
    "start_time": "2023-10-25T10:14:38.731Z"
   },
   {
    "duration": 74,
    "start_time": "2023-10-25T10:14:38.802Z"
   },
   {
    "duration": 248,
    "start_time": "2023-10-25T10:14:38.880Z"
   },
   {
    "duration": 797,
    "start_time": "2023-10-25T10:14:39.130Z"
   },
   {
    "duration": 1220,
    "start_time": "2023-10-25T10:14:39.929Z"
   },
   {
    "duration": 196,
    "start_time": "2023-10-25T10:14:41.153Z"
   },
   {
    "duration": 21,
    "start_time": "2023-10-25T10:14:41.351Z"
   },
   {
    "duration": 953,
    "start_time": "2023-10-25T10:14:41.373Z"
   },
   {
    "duration": 14,
    "start_time": "2023-10-25T10:14:42.328Z"
   },
   {
    "duration": 160,
    "start_time": "2023-10-25T10:14:42.344Z"
   },
   {
    "duration": 132,
    "start_time": "2023-10-25T10:14:42.507Z"
   },
   {
    "duration": 49,
    "start_time": "2023-10-25T10:14:42.640Z"
   },
   {
    "duration": 40,
    "start_time": "2023-10-25T10:14:42.691Z"
   },
   {
    "duration": 34,
    "start_time": "2023-10-25T10:14:42.733Z"
   },
   {
    "duration": 378,
    "start_time": "2023-10-25T10:14:42.769Z"
   },
   {
    "duration": 54,
    "start_time": "2023-10-25T10:14:43.149Z"
   },
   {
    "duration": 724,
    "start_time": "2023-10-25T10:14:43.205Z"
   },
   {
    "duration": 62,
    "start_time": "2023-10-25T10:14:43.931Z"
   },
   {
    "duration": 38,
    "start_time": "2023-10-25T10:14:43.995Z"
   },
   {
    "duration": 273,
    "start_time": "2023-10-25T10:14:44.034Z"
   },
   {
    "duration": 159,
    "start_time": "2023-10-25T10:14:44.308Z"
   },
   {
    "duration": 104,
    "start_time": "2023-10-25T10:14:44.469Z"
   },
   {
    "duration": 52,
    "start_time": "2023-10-25T15:42:52.436Z"
   }
  ],
  "kernelspec": {
   "display_name": "Python 3 (ipykernel)",
   "language": "python",
   "name": "python3"
  },
  "language_info": {
   "codemirror_mode": {
    "name": "ipython",
    "version": 3
   },
   "file_extension": ".py",
   "mimetype": "text/x-python",
   "name": "python",
   "nbconvert_exporter": "python",
   "pygments_lexer": "ipython3",
   "version": "3.9.7"
  },
  "toc": {
   "base_numbering": 1,
   "nav_menu": {},
   "number_sections": true,
   "sideBar": true,
   "skip_h1_title": true,
   "title_cell": "Содержание",
   "title_sidebar": "Contents",
   "toc_cell": true,
   "toc_position": {},
   "toc_section_display": true,
   "toc_window_display": true
  }
 },
 "nbformat": 4,
 "nbformat_minor": 4
}
